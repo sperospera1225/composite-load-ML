{
 "cells": [
  {
   "cell_type": "code",
   "execution_count": 27,
   "metadata": {},
   "outputs": [
    {
     "name": "stdout",
     "output_type": "stream",
     "text": [
      "  Thining Part Moment Direction Thining Rate Boundary Type  Inner Pressure  \\\n",
      "0        Extra              IPO          20%    Limit Load          22.070   \n",
      "1        Extra              IPO          20%    Limit Load          19.863   \n",
      "2        Extra              IPO          20%    Limit Load          17.656   \n",
      "3        Extra              IPO          20%    Limit Load          15.449   \n",
      "4        Extra              IPO          20%    Limit Load          13.242   \n",
      "\n",
      "   Multiplier  \n",
      "0    0.754368  \n",
      "1    0.889164  \n",
      "2    1.000607  \n",
      "3    1.022539  \n",
      "4    0.970476  \n"
     ]
    }
   ],
   "source": [
    "import pandas as pd\n",
    "import numpy as np\n",
    "\n",
    "# 데이터 불러오기\n",
    "data1 = pd.read_csv('WallThining_data.csv')\n",
    "data2 = pd.read_csv('WallThinning_3050_data.csv')\n",
    "data = pd.concat([data1, data2], axis=0)\n",
    "data = data.drop('Moment', axis=1).reset_index(drop=True)\n",
    "# 데이터 확인\n",
    "print(data.head())"
   ]
  },
  {
   "cell_type": "code",
   "execution_count": 28,
   "metadata": {},
   "outputs": [
    {
     "name": "stdout",
     "output_type": "stream",
     "text": [
      "데이터 기본 정보:\n",
      "<class 'pandas.core.frame.DataFrame'>\n",
      "RangeIndex: 990 entries, 0 to 989\n",
      "Data columns (total 6 columns):\n",
      " #   Column            Non-Null Count  Dtype  \n",
      "---  ------            --------------  -----  \n",
      " 0   Thining Part      990 non-null    object \n",
      " 1   Moment Direction  990 non-null    object \n",
      " 2   Thining Rate      990 non-null    object \n",
      " 3   Boundary Type     990 non-null    object \n",
      " 4   Inner Pressure    990 non-null    float64\n",
      " 5   Multiplier        990 non-null    float64\n",
      "dtypes: float64(2), object(4)\n",
      "memory usage: 46.5+ KB\n",
      "\n",
      "기술 통계:\n",
      "       Inner Pressure  Multiplier\n",
      "count      990.000000  990.000000\n",
      "mean        11.035000    0.651233\n",
      "std          6.982674    0.157058\n",
      "min          0.000000    0.244097\n",
      "25%          4.414000    0.529080\n",
      "50%         11.035000    0.664468\n",
      "75%         17.656000    0.756554\n",
      "max         22.070000    1.022539\n",
      "\n",
      "결측치 수:\n",
      "Thining Part        0\n",
      "Moment Direction    0\n",
      "Thining Rate        0\n",
      "Boundary Type       0\n",
      "Inner Pressure      0\n",
      "Multiplier          0\n",
      "dtype: int64\n",
      "\n",
      "Categorical 변수의 고유값:\n",
      "Thining Part: ['Extra' 'Intra' 'Crown']\n",
      "Moment Direction: ['IPO' 'IPC' 'OP']\n",
      "Boundary Type: ['Limit Load' 'Elastic Shakedown']\n"
     ]
    }
   ],
   "source": [
    "import pandas as pd\n",
    "import matplotlib.pyplot as plt\n",
    "import seaborn as sns\n",
    "\n",
    "# 기본 정보 확인\n",
    "print(\"데이터 기본 정보:\")\n",
    "data.info()\n",
    "\n",
    "# 기술 통계 확인\n",
    "print(\"\\n기술 통계:\")\n",
    "print(data.describe())\n",
    "\n",
    "# 결측치 확인\n",
    "print(\"\\n결측치 수:\")\n",
    "print(data.isnull().sum())\n",
    "\n",
    "# Categorical 변수의 고유값 확인\n",
    "print(\"\\nCategorical 변수의 고유값:\")\n",
    "for col in ['Thining Part', 'Moment Direction', 'Boundary Type']:\n",
    "    print(f\"{col}: {data[col].unique()}\")"
   ]
  },
  {
   "cell_type": "code",
   "execution_count": 29,
   "metadata": {},
   "outputs": [
    {
     "data": {
      "image/png": "[encoded data removed]",
      "text/plain": [
       "<Figure size 720x288 with 1 Axes>"
      ]
     },
     "metadata": {
      "needs_background": "light"
     },
     "output_type": "display_data"
    },
    {
     "data": {
      "image/png": "[encoded data removed]",
      "text/plain": [
       "<Figure size 720x288 with 1 Axes>"
      ]
     },
     "metadata": {
      "needs_background": "light"
     },
     "output_type": "display_data"
    }
   ],
   "source": [
    "# Numerical 변수 분포 확인\n",
    "numerical_cols = ['Inner Pressure', 'Multiplier']\n",
    "for col in numerical_cols:\n",
    "    plt.figure(figsize=(10, 4))\n",
    "    plt.title(f\"{col} Distribution\")\n",
    "    sns.histplot(data[col], kde=True)\n",
    "    plt.show()\n"
   ]
  },
  {
   "cell_type": "code",
   "execution_count": 30,
   "metadata": {},
   "outputs": [
    {
     "name": "stdout",
     "output_type": "stream",
     "text": [
      "  Thining Part Moment Direction Thining Rate Boundary Type  Inner Pressure  \\\n",
      "0        Extra              IPO          20%    Limit Load             1.0   \n",
      "1        Extra              IPO          20%    Limit Load             0.9   \n",
      "2        Extra              IPO          20%    Limit Load             0.8   \n",
      "3        Extra              IPO          20%    Limit Load             0.7   \n",
      "4        Extra              IPO          20%    Limit Load             0.6   \n",
      "\n",
      "   Multiplier  \n",
      "0    0.754368  \n",
      "1    0.889164  \n",
      "2    1.000607  \n",
      "3    1.022539  \n",
      "4    0.970476  \n"
     ]
    }
   ],
   "source": [
    "from sklearn.preprocessing import MinMaxScaler\n",
    "\n",
    "# Min-Max Scaler 객체 생성\n",
    "scaler = MinMaxScaler()\n",
    "\n",
    "# 'Inner Pressure' 열 선택 및 Reshape (-1, 1) 필요 (scaler는 2D 배열을 요구함)\n",
    "inner_Pressure = data['Inner Pressure'].values.reshape(-1, 1)\n",
    "\n",
    "# Min-Max Normalization 적용\n",
    "data['Inner Pressure'] = scaler.fit_transform(inner_Pressure)\n",
    "\n",
    "# 결과 확인\n",
    "print(data.head())\n"
   ]
  },
  {
   "cell_type": "code",
   "execution_count": 31,
   "metadata": {},
   "outputs": [
    {
     "data": {
      "image/png": "[encoded data removed]",
      "text/plain": [
       "<Figure size 576x432 with 2 Axes>"
      ]
     },
     "metadata": {
      "needs_background": "light"
     },
     "output_type": "display_data"
    }
   ],
   "source": [
    "# 상관 관계 확인\n",
    "correlation = data.corr()\n",
    "plt.figure(figsize=(8, 6))\n",
    "plt.title(\"Correlation\")\n",
    "sns.heatmap(correlation, annot=True, cmap='coolwarm', fmt=\".2f\")\n",
    "plt.show()"
   ]
  },
  {
   "cell_type": "code",
   "execution_count": 32,
   "metadata": {},
   "outputs": [
    {
     "data": {
      "image/png": "[encoded data removed]",
      "text/plain": [
       "<Figure size 720x432 with 1 Axes>"
      ]
     },
     "metadata": {
      "needs_background": "light"
     },
     "output_type": "display_data"
    },
    {
     "data": {
      "image/png": "[encoded data removed]",
      "text/plain": [
       "<Figure size 720x432 with 1 Axes>"
      ]
     },
     "metadata": {
      "needs_background": "light"
     },
     "output_type": "display_data"
    },
    {
     "data": {
      "image/png": "[encoded data removed]",
      "text/plain": [
       "<Figure size 720x432 with 1 Axes>"
      ]
     },
     "metadata": {
      "needs_background": "light"
     },
     "output_type": "display_data"
    }
   ],
   "source": [
    "# Categorical 변수에 대한 Boxplot (target variable 대비)\n",
    "for col in ['Thining Part', 'Moment Direction', 'Boundary Type']:\n",
    "    plt.figure(figsize=(10, 6))\n",
    "    sns.boxplot(x=col, y='Multiplier', data=data)\n",
    "    plt.title(f\"Distribution of Multiplier by {col}\")\n",
    "    plt.show()"
   ]
  },
  {
   "cell_type": "code",
   "execution_count": 33,
   "metadata": {},
   "outputs": [],
   "source": [
    "from sklearn.model_selection import train_test_split\n",
    "from sklearn.preprocessing import LabelEncoder, StandardScaler\n",
    "\n",
    "# Categorical 변수 인코딩\n",
    "# le = LabelEncoder()\n",
    "# data['Thining Part'] = le.fit_transform(data['Thining Part'])\n",
    "# data['Moment Direction'] = le.fit_transform(data['Moment Direction'])\n",
    "# data['Boundary Type'] = le.fit_transform(data['Boundary Type'])\n",
    "\n",
    "data = pd.get_dummies(data, columns=['Thining Part','Moment Direction','Boundary Type'])\n",
    "\n",
    "# Numerical 변수 전처리 (Inner pressure)\n",
    "data['Thining Rate'] = data['Thining Rate'].str.rstrip('%').astype('int')\n",
    "\n",
    "# 데이터 분할\n",
    "X = data.drop('Multiplier', axis=1)\n",
    "y = data['Multiplier']\n",
    "X_train, X_test, y_train, y_test = train_test_split(X, y, test_size=0.2, random_state=42)\n"
   ]
  },
  {
   "cell_type": "code",
   "execution_count": 35,
   "metadata": {},
   "outputs": [
    {
     "ename": "ModuleNotFoundError",
     "evalue": "No module named 'statsmodels'",
     "output_type": "error",
     "traceback": [
      "\u001b[0;31m---------------------------------------------------------------------------\u001b[0m",
      "\u001b[0;31mModuleNotFoundError\u001b[0m                       Traceback (most recent call last)",
      "\u001b[0;32m<ipython-input-35-beea7969e09b>\u001b[0m in \u001b[0;36m<module>\u001b[0;34m\u001b[0m\n\u001b[0;32m----> 1\u001b[0;31m \u001b[0;32mimport\u001b[0m \u001b[0mstatsmodels\u001b[0m\u001b[0;34m.\u001b[0m\u001b[0mapi\u001b[0m \u001b[0;32mas\u001b[0m \u001b[0msm\u001b[0m\u001b[0;34m\u001b[0m\u001b[0;34m\u001b[0m\u001b[0m\n\u001b[0m\u001b[1;32m      2\u001b[0m \u001b[0mX_OLS\u001b[0m \u001b[0;34m=\u001b[0m \u001b[0msm\u001b[0m\u001b[0;34m.\u001b[0m\u001b[0madd_constant\u001b[0m\u001b[0;34m(\u001b[0m\u001b[0mX\u001b[0m\u001b[0;34m)\u001b[0m\u001b[0;34m\u001b[0m\u001b[0;34m\u001b[0m\u001b[0m\n\u001b[1;32m      3\u001b[0m \u001b[0;34m\u001b[0m\u001b[0m\n\u001b[1;32m      4\u001b[0m \u001b[0;31m# OLS 모델 생성 및 핏팅\u001b[0m\u001b[0;34m\u001b[0m\u001b[0;34m\u001b[0m\u001b[0;34m\u001b[0m\u001b[0m\n\u001b[1;32m      5\u001b[0m \u001b[0mmodel\u001b[0m \u001b[0;34m=\u001b[0m \u001b[0msm\u001b[0m\u001b[0;34m.\u001b[0m\u001b[0mOLS\u001b[0m\u001b[0;34m(\u001b[0m\u001b[0my\u001b[0m\u001b[0;34m,\u001b[0m \u001b[0mX_OLS\u001b[0m\u001b[0;34m)\u001b[0m\u001b[0;34m.\u001b[0m\u001b[0mfit\u001b[0m\u001b[0;34m(\u001b[0m\u001b[0;34m)\u001b[0m\u001b[0;34m\u001b[0m\u001b[0;34m\u001b[0m\u001b[0m\n",
      "\u001b[0;31mModuleNotFoundError\u001b[0m: No module named 'statsmodels'"
     ]
    }
   ],
   "source": [
    "import statsmodels.api as sm\n",
    "X_OLS = sm.add_constant(X)\n",
    "\n",
    "# OLS 모델 생성 및 핏팅\n",
    "model = sm.OLS(y, X_OLS).fit()\n",
    "\n",
    "# 모델 요약 결과 출력\n",
    "print(model.summary())"
   ]
  },
  {
   "cell_type": "code",
   "execution_count": 34,
   "metadata": {},
   "outputs": [
    {
     "name": "stdout",
     "output_type": "stream",
     "text": [
      "Linear Regression - MAE: 0.0795, MSE: 0.0100, RMSE: 0.0999, MAPE: 12.7502, SMAPE: 12.2729\n",
      "Decision Tree Regressor - MAE: 0.0182, MSE: 0.0010, RMSE: 0.0321, MAPE: 2.8239, SMAPE: 2.7800\n",
      "Random Forest Regressor - MAE: 0.0162, MSE: 0.0006, RMSE: 0.0251, MAPE: 2.6092, SMAPE: 2.5581\n",
      "Gradient Boosting Regressor - MAE: 0.0182, MSE: 0.0007, RMSE: 0.0259, MAPE: 2.7910, SMAPE: 2.7706\n",
      "Ridge Regression - MAE: 0.0797, MSE: 0.0100, RMSE: 0.0998, MAPE: 12.8292, SMAPE: 12.3409\n",
      "Lasso Regression - MAE: 0.1321, MSE: 0.0256, RMSE: 0.1599, MAPE: 23.6388, SMAPE: 21.0800\n",
      "SVR - MAE: 0.1098, MSE: 0.0175, RMSE: 0.1321, MAPE: 19.3420, SMAPE: 17.7259\n"
     ]
    }
   ],
   "source": [
    "import numpy as np\n",
    "from sklearn.svm import SVR\n",
    "from sklearn.linear_model import LinearRegression, Ridge, Lasso\n",
    "from sklearn.tree import DecisionTreeRegressor\n",
    "from sklearn.ensemble import RandomForestRegressor, GradientBoostingRegressor\n",
    "from sklearn.metrics import mean_absolute_error, mean_squared_error, r2_score\n",
    "\n",
    "models = {\n",
    "    'Linear Regression': LinearRegression(),\n",
    "    'Decision Tree Regressor': DecisionTreeRegressor(),\n",
    "    'Random Forest Regressor': RandomForestRegressor(),\n",
    "    'Gradient Boosting Regressor': GradientBoostingRegressor(),\n",
    "    'Ridge Regression': Ridge(),\n",
    "    'Lasso Regression': Lasso(),\n",
    "    'SVR': SVR()\n",
    "}\n",
    "\n",
    "# MAPE와 SMAPE 함수 정의\n",
    "def mean_absolute_percentage_error(y_true, y_pred): \n",
    "    y_true, y_pred = np.array(y_true), np.array(y_pred)\n",
    "    return np.mean(np.abs((y_true - y_pred) / y_true)) * 100\n",
    "\n",
    "def symmetric_mean_absolute_percentage_error(y_true, y_pred):\n",
    "    y_true, y_pred = np.array(y_true), np.array(y_pred)\n",
    "    return np.mean(np.abs(y_true - y_pred) / ((np.abs(y_true) + np.abs(y_pred)) / 2)) * 100\n",
    "\n",
    "# 모델 학습 및 성능 평가\n",
    "for name, model in models.items():\n",
    "    model.fit(X_train, y_train)\n",
    "    y_pred = model.predict(X_test)\n",
    "    \n",
    "    mae = mean_absolute_error(y_test, y_pred)\n",
    "    mse = mean_squared_error(y_test, y_pred)\n",
    "    rmse = np.sqrt(mse)\n",
    "    mape = mean_absolute_percentage_error(y_test, y_pred)\n",
    "    smape = symmetric_mean_absolute_percentage_error(y_test, y_pred)\n",
    "    \n",
    "    print(f'{name} - MAE: {mae:.4f}, MSE: {mse:.4f}, RMSE: {rmse:.4f}, MAPE: {mape:.4f}, SMAPE: {smape:.4f}')\n"
   ]
  },
  {
   "cell_type": "code",
   "execution_count": 16,
   "metadata": {},
   "outputs": [
    {
     "name": "stdout",
     "output_type": "stream",
     "text": [
      "Linear Regression 15.5320\n",
      "Decision Tree Regressor 0.8618\n",
      "Random Forest Regressor 1.7182\n",
      "Gradient Boosting Regressor 3.2419\n",
      "Ridge Regression 15.5195\n",
      "Lasso Regression 25.2020\n",
      "SVR 18.0307\n"
     ]
    }
   ],
   "source": [
    "data_60 = data[data['Thining Rate'] == 60]\n",
    "X_test = data_60.drop('Multiplier', axis=1)\n",
    "y_test = data_60['Multiplier']\n",
    "\n",
    "\n",
    "# 모델 컴파일 및 학습\n",
    "for name, model in models.items():\n",
    "    y_pred = model.predict(X_test)\n",
    "\n",
    "    mae = mean_absolute_error(y_test, y_pred)\n",
    "    mse = mean_squared_error(y_test, y_pred)\n",
    "    rmse = np.sqrt(mse)\n",
    "    mape = mean_absolute_percentage_error(y_test, y_pred)\n",
    "    smape = symmetric_mean_absolute_percentage_error(y_test, y_pred)\n",
    "    print(name, f'{mape:.4f}')\n",
    "    # print(f'{name} - MAE: {mae:.4f}, MSE: {mse:.4f}, RMSE: {rmse:.4f}, MAPE: {mape:.4f}, SMAPE: {smape:.4f}')\n"
   ]
  },
  {
   "cell_type": "code",
   "execution_count": 10,
   "metadata": {},
   "outputs": [
    {
     "name": "stdout",
     "output_type": "stream",
     "text": [
      "  Thining Part Moment Direction Thining Rate      Boundary Type  \\\n",
      "0        Intra              IPO          30%  Elastic Shakedown   \n",
      "1        Intra              IPO          30%  Elastic Shakedown   \n",
      "2        Intra              IPO          30%  Elastic Shakedown   \n",
      "3        Intra              IPO          30%  Elastic Shakedown   \n",
      "4        Intra              IPO          30%  Elastic Shakedown   \n",
      "\n",
      "   Inner Pressure  Multiplier  \n",
      "0           0.000    0.356588  \n",
      "1           2.207    0.396221  \n",
      "2           4.414    0.445776  \n",
      "3           6.621    0.509500  \n",
      "4           8.828    0.594469  \n"
     ]
    }
   ],
   "source": [
    "import pandas as pd\n",
    "import numpy as np\n",
    "\n",
    "# 데이터 불러오기\n",
    "data = pd.read_csv('WallThinning_3050_data.csv')\n",
    "data = data.drop('Moment', axis=1)\n",
    "# 데이터 확인\n",
    "print(data.head())"
   ]
  },
  {
   "cell_type": "code",
   "execution_count": 11,
   "metadata": {},
   "outputs": [
    {
     "name": "stdout",
     "output_type": "stream",
     "text": [
      "  Thining Part Moment Direction Thining Rate      Boundary Type  \\\n",
      "0        Intra              IPO          30%  Elastic Shakedown   \n",
      "1        Intra              IPO          30%  Elastic Shakedown   \n",
      "2        Intra              IPO          30%  Elastic Shakedown   \n",
      "3        Intra              IPO          30%  Elastic Shakedown   \n",
      "4        Intra              IPO          30%  Elastic Shakedown   \n",
      "\n",
      "   Inner Pressure  Multiplier  \n",
      "0             0.0    0.356588  \n",
      "1             0.1    0.396221  \n",
      "2             0.2    0.445776  \n",
      "3             0.3    0.509500  \n",
      "4             0.4    0.594469  \n"
     ]
    }
   ],
   "source": [
    "from sklearn.preprocessing import MinMaxScaler\n",
    "\n",
    "# Min-Max Scaler 객체 생성\n",
    "scaler = MinMaxScaler()\n",
    "\n",
    "# 'Inner Pressure' 열 선택 및 Reshape (-1, 1) 필요 (scaler는 2D 배열을 요구함)\n",
    "inner_Pressure = data['Inner Pressure'].values.reshape(-1, 1)\n",
    "\n",
    "# Min-Max Normalization 적용\n",
    "data['Inner Pressure'] = scaler.fit_transform(inner_Pressure)\n",
    "\n",
    "# 결과 확인\n",
    "print(data.head())\n"
   ]
  },
  {
   "cell_type": "code",
   "execution_count": 12,
   "metadata": {},
   "outputs": [],
   "source": [
    "from sklearn.model_selection import train_test_split\n",
    "from sklearn.preprocessing import LabelEncoder, StandardScaler\n",
    "\n",
    "data = pd.get_dummies(data, columns=['Thining Part','Moment Direction','Boundary Type'])\n",
    "\n",
    "# Numerical 변수 전처리 (Inner pressure)\n",
    "data['Thining Rate'] = data['Thining Rate'].str.rstrip('%').astype('int')\n",
    "\n",
    "# 데이터 분할\n",
    "X = data.drop('Multiplier', axis=1)\n",
    "y = data['Multiplier']"
   ]
  },
  {
   "cell_type": "code",
   "execution_count": 14,
   "metadata": {},
   "outputs": [
    {
     "name": "stdout",
     "output_type": "stream",
     "text": [
      "Linear Regression - MAE: 0.0775, MSE: 0.0092, RMSE: 0.0960, MAPE: 12.0505, SMAPE: 11.8721, R2: 0.6180\n",
      "Decision Tree Regressor - MAE: 0.0190, MSE: 0.0009, RMSE: 0.0304, MAPE: 2.8953, SMAPE: 2.8079, R2: 0.9618\n",
      "Random Forest Regressor - MAE: 0.0200, MSE: 0.0010, RMSE: 0.0319, MAPE: 3.0256, SMAPE: 2.9222, R2: 0.9579\n",
      "Gradient Boosting Regressor - MAE: 0.0226, MSE: 0.0011, RMSE: 0.0325, MAPE: 3.4394, SMAPE: 3.3322, R2: 0.9564\n",
      "Ridge Regression - MAE: 0.0777, MSE: 0.0093, RMSE: 0.0962, MAPE: 12.1275, SMAPE: 11.9413, R2: 0.6169\n",
      "Lasso Regression - MAE: 0.1284, MSE: 0.0244, RMSE: 0.1562, MAPE: 22.0854, SMAPE: 20.3180, R2: -0.0101\n",
      "SVR - MAE: 0.1092, MSE: 0.0173, RMSE: 0.1315, MAPE: 18.7118, SMAPE: 17.4393, R2: 0.2840\n"
     ]
    }
   ],
   "source": [
    "# 모델 컴파일 및 학습\n",
    "for name, model in models.items():\n",
    "    y_pred = model.predict(X)\n",
    "\n",
    "    mae = mean_absolute_error(y, y_pred)\n",
    "    mse = mean_squared_error(y, y_pred)\n",
    "    rmse = np.sqrt(mse)\n",
    "    mape = mean_absolute_percentage_error(y, y_pred)\n",
    "    smape = symmetric_mean_absolute_percentage_error(y, y_pred)   \n",
    "    r2 = r2_score(y, y_pred)\n",
    "\n",
    "    print(f'{name} - MAE: {mae:.4f}, MSE: {mse:.4f}, RMSE: {rmse:.4f}, MAPE: {mape:.4f}, SMAPE: {smape:.4f}, R2: {r2:.4f}')"
   ]
  },
  {
   "cell_type": "code",
   "execution_count": null,
   "metadata": {},
   "outputs": [],
   "source": []
  }
 ],
 "metadata": {
  "kernelspec": {
   "display_name": "Python 3.8.18 ('spcl': conda)",
   "language": "python",
   "name": "python3"
  },
  "language_info": {
   "codemirror_mode": {
    "name": "ipython",
    "version": 3
   },
   "file_extension": ".py",
   "mimetype": "text/x-python",
   "name": "python",
   "nbconvert_exporter": "python",
   "pygments_lexer": "ipython3",
   "version": "3.8.18"
  },
  "vscode": {
   "interpreter": {
    "hash": "d8408b08ccc5a9d79218b244855f68aa68c640671a1d6af6a838c8504f0db3f6"
   }
  }
 },
 "nbformat": 4,
 "nbformat_minor": 2
}
