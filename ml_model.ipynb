{
 "cells": [
  {
   "cell_type": "code",
   "execution_count": 1,
   "metadata": {},
   "outputs": [
    {
     "name": "stdout",
     "output_type": "stream",
     "text": [
      "  Thining Part Moment Direction Thining Rate Boundary Type  Inner Pressure  \\\n",
      "0        Extra              IPO          20%    Limit Load          22.070   \n",
      "1        Extra              IPO          20%    Limit Load          19.863   \n",
      "2        Extra              IPO          20%    Limit Load          17.656   \n",
      "3        Extra              IPO          20%    Limit Load          15.449   \n",
      "4        Extra              IPO          20%    Limit Load          13.242   \n",
      "\n",
      "   Multiplier  \n",
      "0    0.754368  \n",
      "1    0.889164  \n",
      "2    1.000607  \n",
      "3    1.022539  \n",
      "4    0.970476  \n"
     ]
    }
   ],
   "source": [
    "import pandas as pd\n",
    "import numpy as np\n",
    "\n",
    "# 데이터 불러오기\n",
    "data = pd.read_csv('WallThining_data.csv')\n",
    "data = data.drop('Moment', axis=1)\n",
    "# 데이터 확인\n",
    "print(data.head())"
   ]
  },
  {
   "cell_type": "code",
   "execution_count": 2,
   "metadata": {},
   "outputs": [
    {
     "name": "stdout",
     "output_type": "stream",
     "text": [
      "데이터 기본 정보:\n",
      "<class 'pandas.core.frame.DataFrame'>\n",
      "RangeIndex: 594 entries, 0 to 593\n",
      "Data columns (total 6 columns):\n",
      " #   Column            Non-Null Count  Dtype  \n",
      "---  ------            --------------  -----  \n",
      " 0   Thining Part      594 non-null    object \n",
      " 1   Moment Direction  594 non-null    object \n",
      " 2   Thining Rate      594 non-null    object \n",
      " 3   Boundary Type     594 non-null    object \n",
      " 4   Inner Pressure    594 non-null    float64\n",
      " 5   Multiplier        594 non-null    float64\n",
      "dtypes: float64(2), object(4)\n",
      "memory usage: 28.0+ KB\n",
      "\n",
      "기술 통계:\n",
      "       Inner Pressure  Multiplier\n",
      "count      594.000000  594.000000\n",
      "mean        11.035000    0.647075\n",
      "std          6.985029    0.158021\n",
      "min          0.000000    0.244097\n",
      "25%          4.414000    0.526299\n",
      "50%         11.035000    0.652298\n",
      "75%         17.656000    0.754368\n",
      "max         22.070000    1.022539\n",
      "\n",
      "결측치 수:\n",
      "Thining Part        0\n",
      "Moment Direction    0\n",
      "Thining Rate        0\n",
      "Boundary Type       0\n",
      "Inner Pressure      0\n",
      "Multiplier          0\n",
      "dtype: int64\n",
      "\n",
      "Categorical 변수의 고유값:\n",
      "Thining Part: ['Extra' 'Intra' 'Crown']\n",
      "Moment Direction: ['IPO' 'IPC' 'OP']\n",
      "Boundary Type: ['Limit Load' 'Elastic Shakedown']\n"
     ]
    }
   ],
   "source": [
    "import pandas as pd\n",
    "import matplotlib.pyplot as plt\n",
    "import seaborn as sns\n",
    "\n",
    "# 기본 정보 확인\n",
    "print(\"데이터 기본 정보:\")\n",
    "data.info()\n",
    "\n",
    "# 기술 통계 확인\n",
    "print(\"\\n기술 통계:\")\n",
    "print(data.describe())\n",
    "\n",
    "# 결측치 확인\n",
    "print(\"\\n결측치 수:\")\n",
    "print(data.isnull().sum())\n",
    "\n",
    "# Categorical 변수의 고유값 확인\n",
    "print(\"\\nCategorical 변수의 고유값:\")\n",
    "for col in ['Thining Part', 'Moment Direction', 'Boundary Type']:\n",
    "    print(f\"{col}: {data[col].unique()}\")"
   ]
  },
  {
   "cell_type": "code",
   "execution_count": 3,
   "metadata": {},
   "outputs": [
    {
     "data": {
      "image/png": "[encoded data removed]",
      "text/plain": [
       "<Figure size 720x288 with 1 Axes>"
      ]
     },
     "metadata": {
      "needs_background": "light"
     },
     "output_type": "display_data"
    },
    {
     "data": {
      "image/png": "[encoded data removed]",
      "text/plain": [
       "<Figure size 720x288 with 1 Axes>"
      ]
     },
     "metadata": {
      "needs_background": "light"
     },
     "output_type": "display_data"
    }
   ],
   "source": [
    "# Numerical 변수 분포 확인\n",
    "numerical_cols = ['Inner Pressure', 'Multiplier']\n",
    "for col in numerical_cols:\n",
    "    plt.figure(figsize=(10, 4))\n",
    "    plt.title(f\"{col} Distribution\")\n",
    "    sns.histplot(data[col], kde=True)\n",
    "    plt.show()\n"
   ]
  },
  {
   "cell_type": "code",
   "execution_count": 4,
   "metadata": {},
   "outputs": [
    {
     "name": "stdout",
     "output_type": "stream",
     "text": [
      "  Thining Part Moment Direction Thining Rate Boundary Type  Inner Pressure  \\\n",
      "0        Extra              IPO          20%    Limit Load             1.0   \n",
      "1        Extra              IPO          20%    Limit Load             0.9   \n",
      "2        Extra              IPO          20%    Limit Load             0.8   \n",
      "3        Extra              IPO          20%    Limit Load             0.7   \n",
      "4        Extra              IPO          20%    Limit Load             0.6   \n",
      "\n",
      "   Multiplier  \n",
      "0    0.754368  \n",
      "1    0.889164  \n",
      "2    1.000607  \n",
      "3    1.022539  \n",
      "4    0.970476  \n"
     ]
    }
   ],
   "source": [
    "from sklearn.preprocessing import MinMaxScaler\n",
    "\n",
    "# Min-Max Scaler 객체 생성\n",
    "scaler = MinMaxScaler()\n",
    "\n",
    "# 'Inner Pressure' 열 선택 및 Reshape (-1, 1) 필요 (scaler는 2D 배열을 요구함)\n",
    "inner_Pressure = data['Inner Pressure'].values.reshape(-1, 1)\n",
    "\n",
    "# Min-Max Normalization 적용\n",
    "data['Inner Pressure'] = scaler.fit_transform(inner_Pressure)\n",
    "\n",
    "# 결과 확인\n",
    "print(data.head())\n"
   ]
  },
  {
   "cell_type": "code",
   "execution_count": 5,
   "metadata": {},
   "outputs": [
    {
     "data": {
      "image/png": "[encoded data removed]",
      "text/plain": [
       "<Figure size 576x432 with 2 Axes>"
      ]
     },
     "metadata": {
      "needs_background": "light"
     },
     "output_type": "display_data"
    }
   ],
   "source": [
    "# 상관 관계 확인\n",
    "correlation = data.corr()\n",
    "plt.figure(figsize=(8, 6))\n",
    "plt.title(\"Correlation\")\n",
    "sns.heatmap(correlation, annot=True, cmap='coolwarm', fmt=\".2f\")\n",
    "plt.show()"
   ]
  },
  {
   "cell_type": "code",
   "execution_count": 6,
   "metadata": {},
   "outputs": [
    {
     "data": {
      "image/png": "[encoded data removed]",
      "text/plain": [
       "<Figure size 720x432 with 1 Axes>"
      ]
     },
     "metadata": {
      "needs_background": "light"
     },
     "output_type": "display_data"
    },
    {
     "data": {
      "image/png": "[encoded data removed]",
      "text/plain": [
       "<Figure size 720x432 with 1 Axes>"
      ]
     },
     "metadata": {
      "needs_background": "light"
     },
     "output_type": "display_data"
    },
    {
     "data": {
      "image/png": "[encoded data removed]",
      "text/plain": [
       "<Figure size 720x432 with 1 Axes>"
      ]
     },
     "metadata": {
      "needs_background": "light"
     },
     "output_type": "display_data"
    }
   ],
   "source": [
    "# Categorical 변수에 대한 Boxplot (target variable 대비)\n",
    "for col in ['Thining Part', 'Moment Direction', 'Boundary Type']:\n",
    "    plt.figure(figsize=(10, 6))\n",
    "    sns.boxplot(x=col, y='Multiplier', data=data)\n",
    "    plt.title(f\"Distribution of Multiplier by {col}\")\n",
    "    plt.show()"
   ]
  },
  {
   "cell_type": "code",
   "execution_count": 7,
   "metadata": {},
   "outputs": [],
   "source": [
    "from sklearn.model_selection import train_test_split\n",
    "from sklearn.preprocessing import LabelEncoder, StandardScaler\n",
    "\n",
    "# Categorical 변수 인코딩\n",
    "# le = LabelEncoder()\n",
    "# data['Thining Part'] = le.fit_transform(data['Thining Part'])\n",
    "# data['Moment Direction'] = le.fit_transform(data['Moment Direction'])\n",
    "# data['Boundary Type'] = le.fit_transform(data['Boundary Type'])\n",
    "\n",
    "data = pd.get_dummies(data, columns=['Thining Part','Moment Direction','Boundary Type'])\n",
    "\n",
    "# Numerical 변수 전처리 (Inner pressure)\n",
    "data['Thining Rate'] = data['Thining Rate'].str.rstrip('%').astype('int')\n",
    "\n",
    "# 데이터 분할\n",
    "X = data.drop('Multiplier', axis=1)\n",
    "y = data['Multiplier']\n",
    "X_train, X_test, y_train, y_test = train_test_split(X, y, test_size=0.2, random_state=42)\n"
   ]
  },
  {
   "cell_type": "code",
   "execution_count": 8,
   "metadata": {},
   "outputs": [
    {
     "name": "stdout",
     "output_type": "stream",
     "text": [
      "                            OLS Regression Results                            \n",
      "==============================================================================\n",
      "Dep. Variable:             Multiplier   R-squared:                       0.595\n",
      "Model:                            OLS   Adj. R-squared:                  0.590\n",
      "Method:                 Least Squares   F-statistic:                     123.1\n",
      "Date:                Thu, 21 Mar 2024   Prob (F-statistic):          1.00e-110\n",
      "Time:                        07:18:48   Log-Likelihood:                 522.22\n",
      "No. Observations:                 594   AIC:                            -1028.\n",
      "Df Residuals:                     586   BIC:                            -993.3\n",
      "Df Model:                           7                                         \n",
      "Covariance Type:            nonrobust                                         \n",
      "===================================================================================================\n",
      "                                      coef    std err          t      P>|t|      [0.025      0.975]\n",
      "---------------------------------------------------------------------------------------------------\n",
      "const                               0.2741      0.006     46.438      0.000       0.263       0.286\n",
      "Thining Rate                       -0.0024      0.000     -9.376      0.000      -0.003      -0.002\n",
      "Inner Pressure                      0.2969      0.013     22.626      0.000       0.271       0.323\n",
      "Thining Part_Crown                  0.0426      0.006      6.888      0.000       0.030       0.055\n",
      "Thining Part_Extra                  0.1314      0.006     21.229      0.000       0.119       0.144\n",
      "Thining Part_Intra                  0.1001      0.006     16.171      0.000       0.088       0.112\n",
      "Moment Direction_IPC                0.0328      0.006      5.307      0.000       0.021       0.045\n",
      "Moment Direction_IPO                0.0985      0.006     15.907      0.000       0.086       0.111\n",
      "Moment Direction_OP                 0.1428      0.006     23.074      0.000       0.131       0.155\n",
      "Boundary Type_Elastic Shakedown     0.1036      0.005     20.350      0.000       0.094       0.114\n",
      "Boundary Type_Limit Load            0.1705      0.005     33.482      0.000       0.160       0.180\n",
      "==============================================================================\n",
      "Omnibus:                        3.146   Durbin-Watson:                   0.437\n",
      "Prob(Omnibus):                  0.207   Jarque-Bera (JB):                3.222\n",
      "Skew:                          -0.171   Prob(JB):                        0.200\n",
      "Kurtosis:                       2.886   Cond. No.                     7.12e+17\n",
      "==============================================================================\n",
      "\n",
      "Notes:\n",
      "[1] Standard Errors assume that the covariance matrix of the errors is correctly specified.\n",
      "[2] The smallest eigenvalue is 2.19e-30. This might indicate that there are\n",
      "strong multicollinearity problems or that the design matrix is singular.\n"
     ]
    }
   ],
   "source": [
    "import statsmodels.api as sm\n",
    "X_OLS = sm.add_constant(X)\n",
    "\n",
    "# OLS 모델 생성 및 핏팅\n",
    "model = sm.OLS(y, X_OLS).fit()\n",
    "\n",
    "# 모델 요약 결과 출력\n",
    "print(model.summary())"
   ]
  },
  {
   "cell_type": "code",
   "execution_count": 9,
   "metadata": {},
   "outputs": [
    {
     "name": "stdout",
     "output_type": "stream",
     "text": [
      "Linear Regression - MAE: 0.0810, MSE: 0.0097, RMSE: 0.0987, MAPE: 12.6129, SMAPE: 12.3029\n",
      "Decision Tree Regressor - MAE: 0.0170, MSE: 0.0010, RMSE: 0.0313, MAPE: 2.6116, SMAPE: 2.6289\n",
      "Random Forest Regressor - MAE: 0.0163, MSE: 0.0007, RMSE: 0.0261, MAPE: 2.4276, SMAPE: 2.3875\n",
      "Gradient Boosting Regressor - MAE: 0.0157, MSE: 0.0005, RMSE: 0.0221, MAPE: 2.3611, SMAPE: 2.3405\n",
      "Ridge Regression - MAE: 0.0809, MSE: 0.0097, RMSE: 0.0985, MAPE: 12.6233, SMAPE: 12.3132\n",
      "Lasso Regression - MAE: 0.1168, MSE: 0.0199, RMSE: 0.1412, MAPE: 19.3384, SMAPE: 18.2369\n",
      "SVR - MAE: 0.0965, MSE: 0.0135, RMSE: 0.1163, MAPE: 15.9128, SMAPE: 15.1351\n"
     ]
    }
   ],
   "source": [
    "import numpy as np\n",
    "from sklearn.svm import SVR\n",
    "from sklearn.linear_model import LinearRegression, Ridge, Lasso\n",
    "from sklearn.tree import DecisionTreeRegressor\n",
    "from sklearn.ensemble import RandomForestRegressor, GradientBoostingRegressor\n",
    "from sklearn.metrics import mean_absolute_error, mean_squared_error, r2_score\n",
    "\n",
    "models = {\n",
    "    'Linear Regression': LinearRegression(),\n",
    "    'Decision Tree Regressor': DecisionTreeRegressor(),\n",
    "    'Random Forest Regressor': RandomForestRegressor(),\n",
    "    'Gradient Boosting Regressor': GradientBoostingRegressor(),\n",
    "    'Ridge Regression': Ridge(),\n",
    "    'Lasso Regression': Lasso(),\n",
    "    'SVR': SVR()\n",
    "}\n",
    "\n",
    "# MAPE와 SMAPE 함수 정의\n",
    "def mean_absolute_percentage_error(y_true, y_pred): \n",
    "    y_true, y_pred = np.array(y_true), np.array(y_pred)\n",
    "    return np.mean(np.abs((y_true - y_pred) / y_true)) * 100\n",
    "\n",
    "def symmetric_mean_absolute_percentage_error(y_true, y_pred):\n",
    "    y_true, y_pred = np.array(y_true), np.array(y_pred)\n",
    "    return np.mean(np.abs(y_true - y_pred) / ((np.abs(y_true) + np.abs(y_pred)) / 2)) * 100\n",
    "\n",
    "# 모델 학습 및 성능 평가\n",
    "for name, model in models.items():\n",
    "    model.fit(X_train, y_train)\n",
    "    y_pred = model.predict(X_test)\n",
    "    \n",
    "    mae = mean_absolute_error(y_test, y_pred)\n",
    "    mse = mean_squared_error(y_test, y_pred)\n",
    "    rmse = np.sqrt(mse)\n",
    "    mape = mean_absolute_percentage_error(y_test, y_pred)\n",
    "    smape = symmetric_mean_absolute_percentage_error(y_test, y_pred)\n",
    "    \n",
    "    print(f'{name} - MAE: {mae:.4f}, MSE: {mse:.4f}, RMSE: {rmse:.4f}, MAPE: {mape:.4f}, SMAPE: {smape:.4f}')\n"
   ]
  },
  {
   "cell_type": "code",
   "execution_count": 10,
   "metadata": {},
   "outputs": [
    {
     "name": "stdout",
     "output_type": "stream",
     "text": [
      "  Thining Part Moment Direction Thining Rate      Boundary Type  \\\n",
      "0        Intra              IPO          30%  Elastic Shakedown   \n",
      "1        Intra              IPO          30%  Elastic Shakedown   \n",
      "2        Intra              IPO          30%  Elastic Shakedown   \n",
      "3        Intra              IPO          30%  Elastic Shakedown   \n",
      "4        Intra              IPO          30%  Elastic Shakedown   \n",
      "\n",
      "   Inner Pressure  Multiplier  \n",
      "0           0.000    0.356588  \n",
      "1           2.207    0.396221  \n",
      "2           4.414    0.445776  \n",
      "3           6.621    0.509500  \n",
      "4           8.828    0.594469  \n"
     ]
    }
   ],
   "source": [
    "import pandas as pd\n",
    "import numpy as np\n",
    "\n",
    "# 데이터 불러오기\n",
    "data = pd.read_csv('WallThinning_3050_data.csv')\n",
    "data = data.drop('Moment', axis=1)\n",
    "# 데이터 확인\n",
    "print(data.head())"
   ]
  },
  {
   "cell_type": "code",
   "execution_count": 11,
   "metadata": {},
   "outputs": [
    {
     "name": "stdout",
     "output_type": "stream",
     "text": [
      "  Thining Part Moment Direction Thining Rate      Boundary Type  \\\n",
      "0        Intra              IPO          30%  Elastic Shakedown   \n",
      "1        Intra              IPO          30%  Elastic Shakedown   \n",
      "2        Intra              IPO          30%  Elastic Shakedown   \n",
      "3        Intra              IPO          30%  Elastic Shakedown   \n",
      "4        Intra              IPO          30%  Elastic Shakedown   \n",
      "\n",
      "   Inner Pressure  Multiplier  \n",
      "0             0.0    0.356588  \n",
      "1             0.1    0.396221  \n",
      "2             0.2    0.445776  \n",
      "3             0.3    0.509500  \n",
      "4             0.4    0.594469  \n"
     ]
    }
   ],
   "source": [
    "from sklearn.preprocessing import MinMaxScaler\n",
    "\n",
    "# Min-Max Scaler 객체 생성\n",
    "scaler = MinMaxScaler()\n",
    "\n",
    "# 'Inner Pressure' 열 선택 및 Reshape (-1, 1) 필요 (scaler는 2D 배열을 요구함)\n",
    "inner_Pressure = data['Inner Pressure'].values.reshape(-1, 1)\n",
    "\n",
    "# Min-Max Normalization 적용\n",
    "data['Inner Pressure'] = scaler.fit_transform(inner_Pressure)\n",
    "\n",
    "# 결과 확인\n",
    "print(data.head())\n"
   ]
  },
  {
   "cell_type": "code",
   "execution_count": 12,
   "metadata": {},
   "outputs": [],
   "source": [
    "from sklearn.model_selection import train_test_split\n",
    "from sklearn.preprocessing import LabelEncoder, StandardScaler\n",
    "\n",
    "data = pd.get_dummies(data, columns=['Thining Part','Moment Direction','Boundary Type'])\n",
    "\n",
    "# Numerical 변수 전처리 (Inner pressure)\n",
    "data['Thining Rate'] = data['Thining Rate'].str.rstrip('%').astype('int')\n",
    "\n",
    "# 데이터 분할\n",
    "X = data.drop('Multiplier', axis=1)\n",
    "y = data['Multiplier']"
   ]
  },
  {
   "cell_type": "code",
   "execution_count": 14,
   "metadata": {},
   "outputs": [
    {
     "name": "stdout",
     "output_type": "stream",
     "text": [
      "Linear Regression - MAE: 0.0775, MSE: 0.0092, RMSE: 0.0960, MAPE: 12.0505, SMAPE: 11.8721, R2: 0.6180\n",
      "Decision Tree Regressor - MAE: 0.0190, MSE: 0.0009, RMSE: 0.0304, MAPE: 2.8953, SMAPE: 2.8079, R2: 0.9618\n",
      "Random Forest Regressor - MAE: 0.0200, MSE: 0.0010, RMSE: 0.0319, MAPE: 3.0256, SMAPE: 2.9222, R2: 0.9579\n",
      "Gradient Boosting Regressor - MAE: 0.0226, MSE: 0.0011, RMSE: 0.0325, MAPE: 3.4394, SMAPE: 3.3322, R2: 0.9564\n",
      "Ridge Regression - MAE: 0.0777, MSE: 0.0093, RMSE: 0.0962, MAPE: 12.1275, SMAPE: 11.9413, R2: 0.6169\n",
      "Lasso Regression - MAE: 0.1284, MSE: 0.0244, RMSE: 0.1562, MAPE: 22.0854, SMAPE: 20.3180, R2: -0.0101\n",
      "SVR - MAE: 0.1092, MSE: 0.0173, RMSE: 0.1315, MAPE: 18.7118, SMAPE: 17.4393, R2: 0.2840\n"
     ]
    }
   ],
   "source": [
    "# 모델 컴파일 및 학습\n",
    "for name, model in models.items():\n",
    "    y_pred = model.predict(X)\n",
    "\n",
    "    mae = mean_absolute_error(y, y_pred)\n",
    "    mse = mean_squared_error(y, y_pred)\n",
    "    rmse = np.sqrt(mse)\n",
    "    mape = mean_absolute_percentage_error(y, y_pred)\n",
    "    smape = symmetric_mean_absolute_percentage_error(y, y_pred)   \n",
    "    r2 = r2_score(y, y_pred)\n",
    "\n",
    "    print(f'{name} - MAE: {mae:.4f}, MSE: {mse:.4f}, RMSE: {rmse:.4f}, MAPE: {mape:.4f}, SMAPE: {smape:.4f}, R2: {r2:.4f}')"
   ]
  },
  {
   "cell_type": "code",
   "execution_count": null,
   "metadata": {},
   "outputs": [],
   "source": []
  }
 ],
 "metadata": {
  "kernelspec": {
   "display_name": "venv",
   "language": "python",
   "name": "python3"
  },
  "language_info": {
   "codemirror_mode": {
    "name": "ipython",
    "version": 3
   },
   "file_extension": ".py",
   "mimetype": "text/x-python",
   "name": "python",
   "nbconvert_exporter": "python",
   "pygments_lexer": "ipython3",
   "version": "3.6.9"
  }
 },
 "nbformat": 4,
 "nbformat_minor": 2
}
