{
 "cells": [
  {
   "cell_type": "code",
   "execution_count": 47,
   "metadata": {},
   "outputs": [
    {
     "name": "stdout",
     "output_type": "stream",
     "text": [
      "  Thining Part Moment Direction Thining Rate Boundary Type  Inner Pressure  \\\n",
      "0        Extra              IPO          20%    Limit Load          22.070   \n",
      "1        Extra              IPO          20%    Limit Load          19.863   \n",
      "2        Extra              IPO          20%    Limit Load          17.656   \n",
      "3        Extra              IPO          20%    Limit Load          15.449   \n",
      "4        Extra              IPO          20%    Limit Load          13.242   \n",
      "\n",
      "   Multiplier  \n",
      "0    0.754368  \n",
      "1    0.889164  \n",
      "2    1.000607  \n",
      "3    1.022539  \n",
      "4    0.970476  \n"
     ]
    }
   ],
   "source": [
    "import pandas as pd\n",
    "import numpy as np\n",
    "\n",
    "# 데이터 불러오기\n",
    "data1 = pd.read_csv('WallThining_data.csv')\n",
    "data2 = pd.read_csv('WallThinning_3050_data.csv')\n",
    "data3 = pd.read_csv('WallThinning_10_data.csv')\n",
    "data = pd.concat([data1, data2, data3], axis=0)\n",
    "data = data.drop('Moment', axis=1).reset_index(drop=True)\n",
    "# 데이터 확인\n",
    "print(data.head())"
   ]
  },
  {
   "cell_type": "code",
   "execution_count": 48,
   "metadata": {},
   "outputs": [
    {
     "name": "stdout",
     "output_type": "stream",
     "text": [
      "데이터 기본 정보:\n",
      "<class 'pandas.core.frame.DataFrame'>\n",
      "RangeIndex: 1188 entries, 0 to 1187\n",
      "Data columns (total 6 columns):\n",
      " #   Column            Non-Null Count  Dtype  \n",
      "---  ------            --------------  -----  \n",
      " 0   Thining Part      1188 non-null   object \n",
      " 1   Moment Direction  1188 non-null   object \n",
      " 2   Thining Rate      1188 non-null   object \n",
      " 3   Boundary Type     1188 non-null   object \n",
      " 4   Inner Pressure    1188 non-null   float64\n",
      " 5   Multiplier        1188 non-null   float64\n",
      "dtypes: float64(2), object(4)\n",
      "memory usage: 55.8+ KB\n",
      "\n",
      "기술 통계:\n",
      "       Inner Pressure   Multiplier\n",
      "count     1188.000000  1188.000000\n",
      "mean        11.035000     0.659229\n",
      "std          6.982086     0.159114\n",
      "min          0.000000     0.244097\n",
      "25%          4.414000     0.534728\n",
      "50%         11.035000     0.681766\n",
      "75%         17.656000     0.765469\n",
      "max         22.070000     1.023133\n",
      "\n",
      "결측치 수:\n",
      "Thining Part        0\n",
      "Moment Direction    0\n",
      "Thining Rate        0\n",
      "Boundary Type       0\n",
      "Inner Pressure      0\n",
      "Multiplier          0\n",
      "dtype: int64\n",
      "\n",
      "Categorical 변수의 고유값:\n",
      "Thining Part: ['Extra' 'Intra' 'Crown']\n",
      "Moment Direction: ['IPO' 'IPC' 'OP']\n",
      "Boundary Type: ['Limit Load' 'Elastic Shakedown']\n"
     ]
    }
   ],
   "source": [
    "import pandas as pd\n",
    "import matplotlib.pyplot as plt\n",
    "import seaborn as sns\n",
    "\n",
    "# 기본 정보 확인\n",
    "print(\"데이터 기본 정보:\")\n",
    "data.info()\n",
    "\n",
    "# 기술 통계 확인\n",
    "print(\"\\n기술 통계:\")\n",
    "print(data.describe())\n",
    "\n",
    "# 결측치 확인\n",
    "print(\"\\n결측치 수:\")\n",
    "print(data.isnull().sum())\n",
    "\n",
    "# Categorical 변수의 고유값 확인\n",
    "print(\"\\nCategorical 변수의 고유값:\")\n",
    "for col in ['Thining Part', 'Moment Direction', 'Boundary Type']:\n",
    "    print(f\"{col}: {data[col].unique()}\")"
   ]
  },
  {
   "cell_type": "code",
   "execution_count": 49,
   "metadata": {},
   "outputs": [
    {
     "data": {
      "image/png": "[encoded data removed]",
      "text/plain": [
       "<Figure size 720x288 with 1 Axes>"
      ]
     },
     "metadata": {
      "needs_background": "light"
     },
     "output_type": "display_data"
    },
    {
     "data": {
      "image/png": "[encoded data removed]",
      "text/plain": [
       "<Figure size 720x288 with 1 Axes>"
      ]
     },
     "metadata": {
      "needs_background": "light"
     },
     "output_type": "display_data"
    }
   ],
   "source": [
    "# Numerical 변수 분포 확인\n",
    "numerical_cols = ['Inner Pressure', 'Multiplier']\n",
    "for col in numerical_cols:\n",
    "    plt.figure(figsize=(10, 4))\n",
    "    plt.title(f\"{col} Distribution\")\n",
    "    sns.histplot(data[col], kde=True)\n",
    "    plt.show()\n"
   ]
  },
  {
   "cell_type": "code",
   "execution_count": 50,
   "metadata": {},
   "outputs": [
    {
     "name": "stdout",
     "output_type": "stream",
     "text": [
      "  Thining Part Moment Direction Thining Rate Boundary Type  Inner Pressure  \\\n",
      "0        Extra              IPO          20%    Limit Load             1.0   \n",
      "1        Extra              IPO          20%    Limit Load             0.9   \n",
      "2        Extra              IPO          20%    Limit Load             0.8   \n",
      "3        Extra              IPO          20%    Limit Load             0.7   \n",
      "4        Extra              IPO          20%    Limit Load             0.6   \n",
      "\n",
      "   Multiplier  \n",
      "0    0.754368  \n",
      "1    0.889164  \n",
      "2    1.000607  \n",
      "3    1.022539  \n",
      "4    0.970476  \n"
     ]
    }
   ],
   "source": [
    "from sklearn.preprocessing import MinMaxScaler\n",
    "\n",
    "# Min-Max Scaler 객체 생성\n",
    "scaler = MinMaxScaler()\n",
    "\n",
    "# 'Inner Pressure' 열 선택 및 Reshape (-1, 1) 필요 (scaler는 2D 배열을 요구함)\n",
    "inner_Pressure = data['Inner Pressure'].values.reshape(-1, 1)\n",
    "\n",
    "# Min-Max Normalization 적용\n",
    "data['Inner Pressure'] = scaler.fit_transform(inner_Pressure)\n",
    "\n",
    "# 결과 확인\n",
    "print(data.head())\n"
   ]
  },
  {
   "cell_type": "code",
   "execution_count": 51,
   "metadata": {},
   "outputs": [
    {
     "data": {
      "image/png": "[encoded data removed]",
      "text/plain": [
       "<Figure size 576x432 with 2 Axes>"
      ]
     },
     "metadata": {
      "needs_background": "light"
     },
     "output_type": "display_data"
    }
   ],
   "source": [
    "# 상관 관계 확인\n",
    "correlation = data.corr()\n",
    "plt.figure(figsize=(8, 6))\n",
    "plt.title(\"Correlation\")\n",
    "sns.heatmap(correlation, annot=True, cmap='coolwarm', fmt=\".2f\")\n",
    "plt.show()"
   ]
  },
  {
   "cell_type": "code",
   "execution_count": 52,
   "metadata": {},
   "outputs": [
    {
     "data": {
      "image/png": "[encoded data removed]",
      "text/plain": [
       "<Figure size 720x432 with 1 Axes>"
      ]
     },
     "metadata": {
      "needs_background": "light"
     },
     "output_type": "display_data"
    },
    {
     "data": {
      "image/png": "[encoded data removed]",
      "text/plain": [
       "<Figure size 720x432 with 1 Axes>"
      ]
     },
     "metadata": {
      "needs_background": "light"
     },
     "output_type": "display_data"
    },
    {
     "data": {
      "image/png": "[encoded data removed]",
      "text/plain": [
       "<Figure size 720x432 with 1 Axes>"
      ]
     },
     "metadata": {
      "needs_background": "light"
     },
     "output_type": "display_data"
    }
   ],
   "source": [
    "# Categorical 변수에 대한 Boxplot (target variable 대비)\n",
    "for col in ['Thining Part', 'Moment Direction', 'Boundary Type']:\n",
    "    plt.figure(figsize=(10, 6))\n",
    "    sns.boxplot(x=col, y='Multiplier', data=data)\n",
    "    plt.title(f\"Distribution of Multiplier by {col}\")\n",
    "    plt.show()"
   ]
  },
  {
   "cell_type": "code",
   "execution_count": 53,
   "metadata": {},
   "outputs": [],
   "source": [
    "from sklearn.model_selection import train_test_split\n",
    "from sklearn.preprocessing import LabelEncoder, StandardScaler\n",
    "\n",
    "# Categorical 변수 인코딩\n",
    "# le = LabelEncoder()\n",
    "# data['Thining Part'] = le.fit_transform(data['Thining Part'])\n",
    "# data['Moment Direction'] = le.fit_transform(data['Moment Direction'])\n",
    "# data['Boundary Type'] = le.fit_transform(data['Boundary Type'])\n",
    "\n",
    "data = pd.get_dummies(data, columns=['Thining Part','Moment Direction','Boundary Type'])\n",
    "\n",
    "# Numerical 변수 전처리 (Inner pressure)\n",
    "data['Thining Rate'] = data['Thining Rate'].str.rstrip('%').astype('int')\n",
    "\n",
    "# 데이터 분할\n",
    "X = data.drop('Multiplier', axis=1)\n",
    "y = data['Multiplier']\n",
    "X_train, X_test, y_train, y_test = train_test_split(X, y, test_size=0.2, random_state=42)"
   ]
  },
  {
   "cell_type": "code",
   "execution_count": 8,
   "metadata": {},
   "outputs": [
    {
     "name": "stdout",
     "output_type": "stream",
     "text": [
      "                            OLS Regression Results                            \n",
      "==============================================================================\n",
      "Dep. Variable:             Multiplier   R-squared:                       0.619\n",
      "Model:                            OLS   Adj. R-squared:                  0.617\n",
      "Method:                 Least Squares   F-statistic:                     273.9\n",
      "Date:                Tue, 07 May 2024   Prob (F-statistic):          4.43e-242\n",
      "Time:                        06:54:34   Log-Likelihood:                 1071.7\n",
      "No. Observations:                1188   AIC:                            -2127.\n",
      "Df Residuals:                    1180   BIC:                            -2087.\n",
      "Df Model:                           7                                         \n",
      "Covariance Type:            nonrobust                                         \n",
      "===================================================================================================\n",
      "                                      coef    std err          t      P>|t|      [0.025      0.975]\n",
      "---------------------------------------------------------------------------------------------------\n",
      "const                               0.2628      0.004     71.793      0.000       0.256       0.270\n",
      "Thining Rate                       -0.0020      0.000    -11.952      0.000      -0.002      -0.002\n",
      "Inner Pressure                      0.3198      0.009     35.380      0.000       0.302       0.337\n",
      "Thining Part_Crown                  0.0463      0.004     10.974      0.000       0.038       0.055\n",
      "Thining Part_Extra                  0.1224      0.004     28.982      0.000       0.114       0.131\n",
      "Thining Part_Intra                  0.0941      0.004     22.286      0.000       0.086       0.102\n",
      "Moment Direction_IPC                0.0261      0.004      6.186      0.000       0.018       0.034\n",
      "Moment Direction_IPO                0.0963      0.004     22.811      0.000       0.088       0.105\n",
      "Moment Direction_OP                 0.1404      0.004     33.244      0.000       0.132       0.149\n",
      "Boundary Type_Elastic Shakedown     0.0987      0.003     29.080      0.000       0.092       0.105\n",
      "Boundary Type_Limit Load            0.1641      0.003     48.351      0.000       0.157       0.171\n",
      "==============================================================================\n",
      "Omnibus:                        7.146   Durbin-Watson:                   0.444\n",
      "Prob(Omnibus):                  0.028   Jarque-Bera (JB):                7.209\n",
      "Skew:                          -0.190   Prob(JB):                       0.0272\n",
      "Kurtosis:                       2.974   Cond. No.                     8.59e+17\n",
      "==============================================================================\n",
      "\n",
      "Notes:\n",
      "[1] Standard Errors assume that the covariance matrix of the errors is correctly specified.\n",
      "[2] The smallest eigenvalue is 2.44e-30. This might indicate that there are\n",
      "strong multicollinearity problems or that the design matrix is singular.\n"
     ]
    }
   ],
   "source": [
    "import statsmodels.api as sm\n",
    "X_OLS = sm.add_constant(X)\n",
    "\n",
    "# OLS 모델 생성 및 핏팅\n",
    "model = sm.OLS(y, X_OLS).fit()\n",
    "\n",
    "# 모델 요약 결과 출력\n",
    "print(model.summary())"
   ]
  },
  {
   "cell_type": "code",
   "execution_count": 54,
   "metadata": {},
   "outputs": [
    {
     "name": "stdout",
     "output_type": "stream",
     "text": [
      "Linear Regression - MAE: 0.0860, MSE: 0.0113, RMSE: 0.1064, MAPE: 13.6264, SMAPE: 13.0618\n",
      "Decision Tree Regressor - MAE: 0.0157, MSE: 0.0008, RMSE: 0.0288, MAPE: 2.2675, SMAPE: 2.2577\n",
      "Random Forest Regressor - MAE: 0.0115, MSE: 0.0004, RMSE: 0.0192, MAPE: 1.7997, SMAPE: 1.7693\n",
      "Gradient Boosting Regressor - MAE: 0.0168, MSE: 0.0006, RMSE: 0.0237, MAPE: 2.5047, SMAPE: 2.4967\n",
      "Ridge Regression - MAE: 0.0861, MSE: 0.0113, RMSE: 0.1063, MAPE: 13.6648, SMAPE: 13.0953\n",
      "Lasso Regression - MAE: 0.1384, MSE: 0.0275, RMSE: 0.1657, MAPE: 24.3957, SMAPE: 21.7974\n",
      "SVR - MAE: 0.1042, MSE: 0.0157, RMSE: 0.1252, MAPE: 18.0043, SMAPE: 16.6599\n"
     ]
    }
   ],
   "source": [
    "import numpy as np\n",
    "from sklearn.svm import SVR\n",
    "from sklearn.linear_model import LinearRegression, Ridge, Lasso\n",
    "from sklearn.tree import DecisionTreeRegressor\n",
    "from sklearn.ensemble import RandomForestRegressor, GradientBoostingRegressor\n",
    "from sklearn.metrics import mean_absolute_error, mean_squared_error, r2_score\n",
    "\n",
    "models = {\n",
    "    'Linear Regression': LinearRegression(),\n",
    "    'Decision Tree Regressor': DecisionTreeRegressor(),\n",
    "    'Random Forest Regressor': RandomForestRegressor(),\n",
    "    'Gradient Boosting Regressor': GradientBoostingRegressor(),\n",
    "    'Ridge Regression': Ridge(),\n",
    "    'Lasso Regression': Lasso(),\n",
    "    'SVR': SVR()\n",
    "}\n",
    "\n",
    "# MAPE와 SMAPE 함수 정의\n",
    "def mean_absolute_percentage_error(y_true, y_pred): \n",
    "    y_true, y_pred = np.array(y_true), np.array(y_pred)\n",
    "    return np.mean(np.abs((y_true - y_pred) / y_true)) * 100\n",
    "\n",
    "def symmetric_mean_absolute_percentage_error(y_true, y_pred):\n",
    "    y_true, y_pred = np.array(y_true), np.array(y_pred)\n",
    "    return np.mean(np.abs(y_true - y_pred) / ((np.abs(y_true) + np.abs(y_pred)) / 2)) * 100\n",
    "\n",
    "# 모델 학습 및 성능 평가\n",
    "for name, model in models.items():\n",
    "    model.fit(X_train, y_train)\n",
    "    y_pred = model.predict(X_test)\n",
    "    \n",
    "    mae = mean_absolute_error(y_test, y_pred)\n",
    "    mse = mean_squared_error(y_test, y_pred)\n",
    "    rmse = np.sqrt(mse)\n",
    "    mape = mean_absolute_percentage_error(y_test, y_pred)\n",
    "    smape = symmetric_mean_absolute_percentage_error(y_test, y_pred)\n",
    "    \n",
    "    print(f'{name} - MAE: {mae:.4f}, MSE: {mse:.4f}, RMSE: {rmse:.4f}, MAPE: {mape:.4f}, SMAPE: {smape:.4f}')\n"
   ]
  },
  {
   "cell_type": "code",
   "execution_count": 10,
   "metadata": {},
   "outputs": [
    {
     "name": "stdout",
     "output_type": "stream",
     "text": [
      "Linear Regression 12.0149\n",
      "Decision Tree Regressor 0.1913\n",
      "Random Forest Regressor 0.4343\n",
      "Gradient Boosting Regressor 1.8823\n",
      "Ridge Regression 12.0799\n",
      "Lasso Regression 22.4536\n",
      "SVR 17.6259\n"
     ]
    }
   ],
   "source": [
    "data_10 = data[data['Thining Rate'] == 10]\n",
    "X_test = data_10.drop('Multiplier', axis=1)\n",
    "y_test = data_10['Multiplier']\n",
    "\n",
    "\n",
    "# 모델 컴파일 및 학습\n",
    "for name, model in models.items():\n",
    "    y_pred = model.predict(X_test)\n",
    "\n",
    "    mae = mean_absolute_error(y_test, y_pred)\n",
    "    mse = mean_squared_error(y_test, y_pred)\n",
    "    rmse = np.sqrt(mse)\n",
    "    mape = mean_absolute_percentage_error(y_test, y_pred)\n",
    "    smape = symmetric_mean_absolute_percentage_error(y_test, y_pred)\n",
    "    print(name, f'{mape:.4f}')\n",
    "    # print(f'{name} - MAE: {mae:.4f}, MSE: {mse:.4f}, RMSE: {rmse:.4f}, MAPE: {mape:.4f}, SMAPE: {smape:.4f}')\n"
   ]
  },
  {
   "cell_type": "code",
   "execution_count": 11,
   "metadata": {},
   "outputs": [
    {
     "name": "stdout",
     "output_type": "stream",
     "text": [
      "Linear Regression 15.7862\n",
      "Decision Tree Regressor 0.9643\n",
      "Random Forest Regressor 1.7916\n",
      "Gradient Boosting Regressor 3.0799\n",
      "Ridge Regression 15.7707\n",
      "Lasso Regression 25.8429\n",
      "SVR 17.5032\n"
     ]
    }
   ],
   "source": [
    "data_60 = data[data['Thining Rate'] == 60]\n",
    "X_test = data_60.drop('Multiplier', axis=1)\n",
    "y_test = data_60['Multiplier']\n",
    "\n",
    "\n",
    "# 모델 컴파일 및 학습\n",
    "for name, model in models.items():\n",
    "    y_pred = model.predict(X_test)\n",
    "\n",
    "    mae = mean_absolute_error(y_test, y_pred)\n",
    "    mse = mean_squared_error(y_test, y_pred)\n",
    "    rmse = np.sqrt(mse)\n",
    "    mape = mean_absolute_percentage_error(y_test, y_pred)\n",
    "    smape = symmetric_mean_absolute_percentage_error(y_test, y_pred)\n",
    "    print(name, f'{mape:.4f}')\n",
    "    # print(f'{name} - MAE: {mae:.4f}, MSE: {mse:.4f}, RMSE: {rmse:.4f}, MAPE: {mape:.4f}, SMAPE: {smape:.4f}')\n"
   ]
  },
  {
   "cell_type": "code",
   "execution_count": 20,
   "metadata": {},
   "outputs": [
    {
     "name": "stdout",
     "output_type": "stream",
     "text": [
      "  Thining Part Moment Direction Thining Rate      Boundary Type  \\\n",
      "0        Intra              IPO          10%  Elastic Shakedown   \n",
      "1        Intra              IPO          10%  Elastic Shakedown   \n",
      "2        Intra              IPO          10%  Elastic Shakedown   \n",
      "3        Intra              IPO          10%  Elastic Shakedown   \n",
      "4        Intra              IPO          10%  Elastic Shakedown   \n",
      "\n",
      "   Inner Pressure  Multiplier  \n",
      "0           0.000    0.358500  \n",
      "1           2.207    0.398348  \n",
      "2           4.414    0.448171  \n",
      "3           6.621    0.512240  \n",
      "4           8.828    0.597668  \n"
     ]
    }
   ],
   "source": [
    "import pandas as pd\n",
    "import numpy as np\n",
    "\n",
    "# 데이터 불러오기\n",
    "data = pd.read_csv('WallThinning_10_data.csv')\n",
    "data = data.drop('Moment', axis=1)\n",
    "# 데이터 확인\n",
    "print(data.head())"
   ]
  },
  {
   "cell_type": "code",
   "execution_count": 21,
   "metadata": {},
   "outputs": [
    {
     "name": "stdout",
     "output_type": "stream",
     "text": [
      "  Thining Part Moment Direction Thining Rate      Boundary Type  \\\n",
      "0        Intra              IPO          10%  Elastic Shakedown   \n",
      "1        Intra              IPO          10%  Elastic Shakedown   \n",
      "2        Intra              IPO          10%  Elastic Shakedown   \n",
      "3        Intra              IPO          10%  Elastic Shakedown   \n",
      "4        Intra              IPO          10%  Elastic Shakedown   \n",
      "\n",
      "   Inner Pressure  Multiplier  \n",
      "0             0.0    0.358500  \n",
      "1             0.1    0.398348  \n",
      "2             0.2    0.448171  \n",
      "3             0.3    0.512240  \n",
      "4             0.4    0.597668  \n"
     ]
    }
   ],
   "source": [
    "from sklearn.preprocessing import MinMaxScaler\n",
    "\n",
    "# Min-Max Scaler 객체 생성\n",
    "scaler = MinMaxScaler()\n",
    "\n",
    "# 'Inner Pressure' 열 선택 및 Reshape (-1, 1) 필요 (scaler는 2D 배열을 요구함)\n",
    "inner_Pressure = data['Inner Pressure'].values.reshape(-1, 1)\n",
    "\n",
    "# Min-Max Normalization 적용\n",
    "data['Inner Pressure'] = scaler.fit_transform(inner_Pressure)\n",
    "\n",
    "# 결과 확인\n",
    "print(data.head())\n"
   ]
  },
  {
   "cell_type": "code",
   "execution_count": 22,
   "metadata": {},
   "outputs": [],
   "source": [
    "from sklearn.model_selection import train_test_split\n",
    "from sklearn.preprocessing import LabelEncoder, StandardScaler\n",
    "\n",
    "data = pd.get_dummies(data, columns=['Thining Part','Moment Direction','Boundary Type'])\n",
    "\n",
    "# Numerical 변수 전처리 (Inner pressure)\n",
    "data['Thining Rate'] = data['Thining Rate'].str.rstrip('%').astype('int')\n",
    "\n",
    "# 데이터 분할\n",
    "X = data.drop('Multiplier', axis=1)\n",
    "y = data['Multiplier']"
   ]
  },
  {
   "cell_type": "code",
   "execution_count": 23,
   "metadata": {},
   "outputs": [
    {
     "name": "stdout",
     "output_type": "stream",
     "text": [
      "Linear Regression - MAE: 0.0815, MSE: 0.0099, RMSE: 0.0995, MAPE: 12.8914, SMAPE: 12.1084, R2: 0.6288\n",
      "Decision Tree Regressor - MAE: 0.0118, MSE: 0.0003, RMSE: 0.0177, MAPE: 1.7301, SMAPE: 1.7657, R2: 0.9882\n",
      "Random Forest Regressor - MAE: 0.0139, MSE: 0.0004, RMSE: 0.0202, MAPE: 1.9968, SMAPE: 2.0409, R2: 0.9847\n",
      "Gradient Boosting Regressor - MAE: 0.0207, MSE: 0.0007, RMSE: 0.0263, MAPE: 3.0420, SMAPE: 3.1041, R2: 0.9740\n",
      "Ridge Regression - MAE: 0.0818, MSE: 0.0099, RMSE: 0.0997, MAPE: 12.9601, SMAPE: 12.1651, R2: 0.6268\n",
      "Lasso Regression - MAE: 0.1459, MSE: 0.0288, RMSE: 0.1696, MAPE: 22.5010, SMAPE: 21.7837, R2: -0.0798\n",
      "SVR - MAE: 0.1130, MSE: 0.0192, RMSE: 0.1384, MAPE: 19.0825, SMAPE: 17.1009, R2: 0.2812\n"
     ]
    }
   ],
   "source": [
    "# 모델 컴파일 및 학습\n",
    "for name, model in models.items():\n",
    "    y_pred = model.predict(X)\n",
    "\n",
    "    mae = mean_absolute_error(y, y_pred)\n",
    "    mse = mean_squared_error(y, y_pred)\n",
    "    rmse = np.sqrt(mse)\n",
    "    mape = mean_absolute_percentage_error(y, y_pred)\n",
    "    smape = symmetric_mean_absolute_percentage_error(y, y_pred)   \n",
    "    r2 = r2_score(y, y_pred)\n",
    "\n",
    "    print(f'{name} - MAE: {mae:.4f}, MSE: {mse:.4f}, RMSE: {rmse:.4f}, MAPE: {mape:.4f}, SMAPE: {smape:.4f}, R2: {r2:.4f}')"
   ]
  },
  {
   "cell_type": "code",
   "execution_count": null,
   "metadata": {},
   "outputs": [],
   "source": []
  }
 ],
 "metadata": {
  "kernelspec": {
   "display_name": "Python 3.6.9 ('venv': venv)",
   "language": "python",
   "name": "python3"
  },
  "language_info": {
   "codemirror_mode": {
    "name": "ipython",
    "version": 3
   },
   "file_extension": ".py",
   "mimetype": "text/x-python",
   "name": "python",
   "nbconvert_exporter": "python",
   "pygments_lexer": "ipython3",
   "version": "3.6.9"
  },
  "vscode": {
   "interpreter": {
    "hash": "026b491e54cba9ce61109363993937e87c49f1c80bf25d26bf1382b18909d6dd"
   }
  }
 },
 "nbformat": 4,
 "nbformat_minor": 2
}
