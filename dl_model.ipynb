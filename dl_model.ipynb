{
 "cells": [
  {
   "cell_type": "code",
   "execution_count": 42,
   "metadata": {},
   "outputs": [
    {
     "name": "stdout",
     "output_type": "stream",
     "text": [
      "  Thining Part Moment Direction Thining Rate Boundary Type  Inner Pressure  \\\n",
      "0        Extra              IPO          20%    Limit Load          22.070   \n",
      "1        Extra              IPO          20%    Limit Load          19.863   \n",
      "2        Extra              IPO          20%    Limit Load          17.656   \n",
      "3        Extra              IPO          20%    Limit Load          15.449   \n",
      "4        Extra              IPO          20%    Limit Load          13.242   \n",
      "\n",
      "   Multiplier  \n",
      "0    0.754368  \n",
      "1    0.889164  \n",
      "2    1.000607  \n",
      "3    1.022539  \n",
      "4    0.970476  \n"
     ]
    }
   ],
   "source": [
    "import pandas as pd\n",
    "import numpy as np\n",
    "\n",
    "# 데이터 불러오기\n",
    "data = pd.read_csv('WallThining_data.csv')\n",
    "data = data.drop('Moment', axis=1)\n",
    "# 데이터 확인\n",
    "print(data.head())"
   ]
  },
  {
   "cell_type": "code",
   "execution_count": 43,
   "metadata": {},
   "outputs": [
    {
     "name": "stdout",
     "output_type": "stream",
     "text": [
      "  Thining Part Moment Direction Thining Rate Boundary Type  Inner Pressure  \\\n",
      "0        Extra              IPO          20%    Limit Load             1.0   \n",
      "1        Extra              IPO          20%    Limit Load             0.9   \n",
      "2        Extra              IPO          20%    Limit Load             0.8   \n",
      "3        Extra              IPO          20%    Limit Load             0.7   \n",
      "4        Extra              IPO          20%    Limit Load             0.6   \n",
      "\n",
      "   Multiplier  \n",
      "0    0.754368  \n",
      "1    0.889164  \n",
      "2    1.000607  \n",
      "3    1.022539  \n",
      "4    0.970476  \n"
     ]
    }
   ],
   "source": [
    "from sklearn.preprocessing import MinMaxScaler\n",
    "\n",
    "# Min-Max Scaler 객체 생성\n",
    "scaler = MinMaxScaler()\n",
    "\n",
    "# 'Inner Pressure' 열 선택 및 Reshape (-1, 1) 필요 (scaler는 2D 배열을 요구함)\n",
    "inner_Pressure = data['Inner Pressure'].values.reshape(-1, 1)\n",
    "\n",
    "# Min-Max Normalization 적용\n",
    "data['Inner Pressure'] = scaler.fit_transform(inner_Pressure)\n",
    "\n",
    "# 결과 확인\n",
    "print(data.head())\n"
   ]
  },
  {
   "cell_type": "code",
   "execution_count": 44,
   "metadata": {},
   "outputs": [],
   "source": [
    "from sklearn.model_selection import train_test_split\n",
    "from sklearn.preprocessing import LabelEncoder, StandardScaler\n",
    "\n",
    "# Categorical 변수 인코딩\n",
    "# le = LabelEncoder()\n",
    "# data['Thining Part'] = le.fit_transform(data['Thining Part'])\n",
    "# data['Moment Direction'] = le.fit_transform(data['Moment Direction'])\n",
    "# data['Boundary Type'] = le.fit_transform(data['Boundary Type'])\n",
    "\n",
    "data = pd.get_dummies(data, columns=['Thining Part','Moment Direction','Boundary Type'])\n",
    "\n",
    "# Numerical 변수 전처리 (Inner pressure)\n",
    "data['Thining Rate'] = data['Thining Rate'].str.rstrip('%').astype('int')\n",
    "\n",
    "# 데이터 분할\n",
    "X = data.drop('Multiplier', axis=1)\n",
    "y = data['Multiplier']\n",
    "X_train, X_test, y_train, y_test = train_test_split(X, y, test_size=0.2, random_state=42)\n"
   ]
  },
  {
   "cell_type": "code",
   "execution_count": 47,
   "metadata": {},
   "outputs": [
    {
     "name": "stdout",
     "output_type": "stream",
     "text": [
      "WARNING:tensorflow:Layer lstm_17 will not use cuDNN kernels since it doesn't meet the criteria. It will use a generic GPU kernel as fallback when running on GPU.\n",
      "WARNING:tensorflow:Layer gru_17 will not use cuDNN kernels since it doesn't meet the criteria. It will use a generic GPU kernel as fallback when running on GPU.\n",
      "MLP - MAE: 0.0964, MSE: 0.0129, RMSE: 0.1134, MAPE: 21.1525, SMAPE: 19.0993, R2: 0.3329\n",
      "CNN - MAE: 0.0779, MSE: 0.0089, RMSE: 0.0944, MAPE: 21.9159, SMAPE: 20.4267, R2: 0.5374\n",
      "RNN - MAE: 0.1038, MSE: 0.0150, RMSE: 0.1226, MAPE: 20.9106, SMAPE: 18.7677, R2: 0.2193\n"
     ]
    }
   ],
   "source": [
    "import numpy as np\n",
    "from sklearn.model_selection import train_test_split\n",
    "from sklearn.metrics import mean_absolute_error, mean_squared_error, r2_score\n",
    "from tensorflow.keras.models import Sequential\n",
    "from tensorflow.keras.layers import Dense, LSTM, GRU, SimpleRNN, Conv1D, MaxPooling1D, Flatten\n",
    "from tensorflow.keras.utils import to_categorical\n",
    "\n",
    "\n",
    "models = {\n",
    "    'MLP': Sequential([\n",
    "        Dense(64, activation='relu', input_shape=(10,)),\n",
    "        Dense(32, activation='relu'),\n",
    "        Dense(1, activation='sigmoid')\n",
    "    ]),\n",
    "    'CNN': Sequential([\n",
    "        # Conv1D는 3D 입력이 필요하므로 (샘플 수, 타임스텝, 특성) 형태로 변환 필요\n",
    "        Conv1D(filters=64, kernel_size=3, activation='relu', input_shape=(10, 1)),\n",
    "        MaxPooling1D(pool_size=2),\n",
    "        Flatten(),\n",
    "        Dense(50, activation='relu'),\n",
    "        Dense(1, activation='sigmoid')\n",
    "    ]),\n",
    "    'RNN': Sequential([\n",
    "        SimpleRNN(50, activation='relu', input_shape=(10, 1)),\n",
    "        Dense(1, activation='sigmoid')\n",
    "    ]),\n",
    "    'LSTM': Sequential([\n",
    "        LSTM(50, activation='relu', input_shape=(10, 1)),\n",
    "        Dense(1, activation='sigmoid')\n",
    "    ]),\n",
    "    'GRU': Sequential([\n",
    "        GRU(50, activation='relu', input_shape=(10, 1)),\n",
    "        Dense(1, activation='sigmoid')\n",
    "    ])\n",
    "}\n",
    "\n",
    "# MAPE와 SMAPE 함수 정의\n",
    "def mean_absolute_percentage_error(y_true, y_pred): \n",
    "    y_true, y_pred = np.array(y_true), np.array(y_pred)\n",
    "    return np.mean(np.abs((y_true - y_pred) / y_true)) * 100\n",
    "\n",
    "def symmetric_mean_absolute_percentage_error(y_true, y_pred):\n",
    "    y_true, y_pred = np.array(y_true), np.array(y_pred)\n",
    "    return np.mean(np.abs(y_true - y_pred) / ((np.abs(y_true) + np.abs(y_pred)) / 2)) * 100\n",
    "\n",
    "\n",
    "\n",
    "\n",
    "# 모델 컴파일 및 학습\n",
    "for name, model in models.items():\n",
    "    model.compile(optimizer='adam', loss='mean_squared_error')\n",
    "    if name == 'MLP':\n",
    "        model.fit(X_train, y_train, epochs=10, batch_size=32, verbose=0)\n",
    "        y_pred = model.predict(X_test)\n",
    "    else:\n",
    "        X_train_transformed = X_train.to_numpy().reshape((X_train.shape[0], X_train.shape[1], 1))\n",
    "        model.fit(X_train_transformed, y_train, epochs=10, batch_size=32, verbose=0)\n",
    "        X_test_transformed = X_test.to_numpy().reshape((X_test.shape[0], X_test.shape[1], 1))\n",
    "        y_pred = model.predict(X_test_transformed)\n",
    "\n",
    "    # 실제 값과 예측 값의 차이를 계산하여 평가 지표를 구함\n",
    "    mae = mean_absolute_error(y_test, y_pred)\n",
    "    mse = mean_squared_error(y_test, y_pred)\n",
    "    rmse = np.sqrt(mse)\n",
    "    mape = mean_absolute_percentage_error(y_test, y_pred)\n",
    "    smape = symmetric_mean_absolute_percentage_error(y_test, y_pred)   \n",
    "    r2 = r2_score(y_test, y_pred)\n",
    "\n",
    "    print(f'{name} - MAE: {mae:.4f}, MSE: {mse:.4f}, RMSE: {rmse:.4f}, MAPE: {mape:.4f}, SMAPE: {smape:.4f}, R2: {r2:.4f}')"
   ]
  },
  {
   "cell_type": "code",
   "execution_count": null,
   "metadata": {},
   "outputs": [],
   "source": []
  }
 ],
 "metadata": {
  "kernelspec": {
   "display_name": "venv",
   "language": "python",
   "name": "python3"
  },
  "language_info": {
   "codemirror_mode": {
    "name": "ipython",
    "version": 3
   },
   "file_extension": ".py",
   "mimetype": "text/x-python",
   "name": "python",
   "nbconvert_exporter": "python",
   "pygments_lexer": "ipython3",
   "version": "3.6.9"
  }
 },
 "nbformat": 4,
 "nbformat_minor": 2
}
