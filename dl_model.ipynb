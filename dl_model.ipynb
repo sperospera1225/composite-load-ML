{
 "cells": [
  {
   "cell_type": "code",
   "execution_count": 41,
   "metadata": {},
   "outputs": [
    {
     "name": "stdout",
     "output_type": "stream",
     "text": [
      "  Thining Part Moment Direction Thining Rate Boundary Type  Inner Pressure  \\\n",
      "0        Extra              IPO          20%    Limit Load          22.070   \n",
      "1        Extra              IPO          20%    Limit Load          19.863   \n",
      "2        Extra              IPO          20%    Limit Load          17.656   \n",
      "3        Extra              IPO          20%    Limit Load          15.449   \n",
      "4        Extra              IPO          20%    Limit Load          13.242   \n",
      "\n",
      "   Multiplier  \n",
      "0    0.754368  \n",
      "1    0.889164  \n",
      "2    1.000607  \n",
      "3    1.022539  \n",
      "4    0.970476  \n"
     ]
    }
   ],
   "source": [
    "import pandas as pd\n",
    "import numpy as np\n",
    "\n",
    "# 데이터 불러오기\n",
    "data1 = pd.read_csv('WallThining_data.csv')\n",
    "data2 = pd.read_csv('WallThinning_3050_data.csv')\n",
    "data = pd.concat([data1, data2], axis=0)\n",
    "data = data.drop('Moment', axis=1).reset_index(drop=True)\n",
    "# 데이터 확인\n",
    "print(data.head())"
   ]
  },
  {
   "cell_type": "code",
   "execution_count": 42,
   "metadata": {},
   "outputs": [
    {
     "data": {
      "text/plain": [
       "(594, 396, 990)"
      ]
     },
     "execution_count": 42,
     "metadata": {},
     "output_type": "execute_result"
    }
   ],
   "source": [
    "len(data1), len(data2), len(data)"
   ]
  },
  {
   "cell_type": "code",
   "execution_count": 43,
   "metadata": {},
   "outputs": [
    {
     "name": "stdout",
     "output_type": "stream",
     "text": [
      "  Thining Part Moment Direction Thining Rate Boundary Type  Inner Pressure  \\\n",
      "0        Extra              IPO          20%    Limit Load             1.0   \n",
      "1        Extra              IPO          20%    Limit Load             0.9   \n",
      "2        Extra              IPO          20%    Limit Load             0.8   \n",
      "3        Extra              IPO          20%    Limit Load             0.7   \n",
      "4        Extra              IPO          20%    Limit Load             0.6   \n",
      "\n",
      "   Multiplier  \n",
      "0    0.754368  \n",
      "1    0.889164  \n",
      "2    1.000607  \n",
      "3    1.022539  \n",
      "4    0.970476  \n"
     ]
    }
   ],
   "source": [
    "from sklearn.preprocessing import MinMaxScaler\n",
    "\n",
    "# Min-Max Scaler 객체 생성\n",
    "scaler = MinMaxScaler()\n",
    "\n",
    "# 'Inner Pressure' 열 선택 및 Reshape (-1, 1) 필요 (scaler는 2D 배열을 요구함)\n",
    "inner_Pressure = data['Inner Pressure'].values.reshape(-1, 1)\n",
    "\n",
    "# Min-Max Normalization 적용\n",
    "data['Inner Pressure'] = scaler.fit_transform(inner_Pressure)\n",
    "\n",
    "# 결과 확인\n",
    "print(data.head())\n"
   ]
  },
  {
   "cell_type": "code",
   "execution_count": 44,
   "metadata": {},
   "outputs": [],
   "source": [
    "from sklearn.model_selection import train_test_split\n",
    "from sklearn.preprocessing import LabelEncoder, StandardScaler\n",
    "\n",
    "# Categorical 변수 인코딩\n",
    "# le = LabelEncoder()\n",
    "# data['Thining Part'] = le.fit_transform(data['Thining Part'])\n",
    "# data['Moment Direction'] = le.fit_transform(data['Moment Direction'])\n",
    "# data['Boundary Type'] = le.fit_transform(data['Boundary Type'])\n",
    "\n",
    "data = pd.get_dummies(data, columns=['Thining Part','Moment Direction','Boundary Type'])\n",
    "\n",
    "# Numerical 변수 전처리 (Inner pressure)\n",
    "data['Thining Rate'] = data['Thining Rate'].str.rstrip('%').astype('int')\n",
    "\n",
    "# 데이터 분할\n",
    "X = data.drop('Multiplier', axis=1)\n",
    "y = data['Multiplier']\n",
    "X_train, X_test, y_train, y_test = train_test_split(X, y, test_size=0.2, random_state=42)\n"
   ]
  },
  {
   "cell_type": "code",
   "execution_count": 47,
   "metadata": {},
   "outputs": [
    {
     "name": "stdout",
     "output_type": "stream",
     "text": [
      "WARNING:tensorflow:Layer lstm_6 will not use cuDNN kernels since it doesn't meet the criteria. It will use a generic GPU kernel as fallback when running on GPU.\n",
      "WARNING:tensorflow:Layer gru_6 will not use cuDNN kernels since it doesn't meet the criteria. It will use a generic GPU kernel as fallback when running on GPU.\n",
      "MLP - MAE: 0.0842, MSE: 0.0109, RMSE: 0.1044, MAPE: 28.7091, SMAPE: 25.4094, R2: 0.5681\n",
      "CNN - MAE: 0.0977, MSE: 0.0133, RMSE: 0.1151, MAPE: 25.5396, SMAPE: 25.4209, R2: 0.4748\n",
      "RNN - MAE: 0.1132, MSE: 0.0184, RMSE: 0.1355, MAPE: 25.6938, SMAPE: 22.4491, R2: 0.2730\n",
      "LSTM - MAE: 0.1107, MSE: 0.0189, RMSE: 0.1374, MAPE: 25.5531, SMAPE: 21.9268, R2: 0.2517\n",
      "GRU - MAE: 0.1161, MSE: 0.0207, RMSE: 0.1438, MAPE: 24.7511, SMAPE: 21.5837, R2: 0.1812\n"
     ]
    }
   ],
   "source": [
    "import numpy as np\n",
    "from sklearn.model_selection import train_test_split\n",
    "from sklearn.metrics import mean_absolute_error, mean_squared_error, r2_score\n",
    "from tensorflow.keras.models import Sequential\n",
    "from tensorflow.keras.layers import Dense, LSTM, GRU, SimpleRNN, Conv1D, MaxPooling1D, Flatten\n",
    "from tensorflow.keras.utils import to_categorical\n",
    "from tensorflow import keras\n",
    "\n",
    "models = {\n",
    "    'MLP': Sequential([\n",
    "        Dense(64, activation='relu', input_shape=(10,)),\n",
    "        Dense(32, activation='relu'),\n",
    "        Dense(1, activation='linear')\n",
    "    ]),\n",
    "    'CNN': Sequential([\n",
    "        # Conv1D는 3D 입력이 필요하므로 (샘플 수, 타임스텝, 특성) 형태로 변환 필요\n",
    "        Conv1D(filters=64, kernel_size=3, activation='relu', input_shape=(10, 1)),\n",
    "        MaxPooling1D(pool_size=2),\n",
    "        Flatten(),\n",
    "        Dense(50, activation='relu'),\n",
    "        Dense(1, activation='linear')\n",
    "    ]),\n",
    "    'RNN': Sequential([\n",
    "        SimpleRNN(50, activation='relu', input_shape=(10, 1)),\n",
    "        Dense(1, activation='linear')\n",
    "    ]),\n",
    "    'LSTM': Sequential([\n",
    "        LSTM(50, activation='relu', input_shape=(10, 1)),\n",
    "        Dense(1, activation='linear')\n",
    "    ]),\n",
    "    'GRU': Sequential([\n",
    "        GRU(50, activation='relu', input_shape=(10, 1)),\n",
    "        Dense(1, activation='linear')\n",
    "    ])\n",
    "}\n",
    "\n",
    "# MAPE와 SMAPE 함수 정의\n",
    "def mean_absolute_percentage_error(y_true, y_pred): \n",
    "    y_true, y_pred = np.array(y_true), np.array(y_pred)\n",
    "    return np.mean(np.abs((y_true - y_pred) / y_true)) * 100\n",
    "\n",
    "def symmetric_mean_absolute_percentage_error(y_true, y_pred):\n",
    "    y_true, y_pred = np.array(y_true), np.array(y_pred)\n",
    "    return np.mean(np.abs(y_true - y_pred) / ((np.abs(y_true) + np.abs(y_pred)) / 2)) * 100\n",
    "\n",
    "\n",
    "# 모델 컴파일 및 학습\n",
    "for name, model in models.items():\n",
    "    model.compile(optimizer='adam', loss='mse', metrics=['mae'])\n",
    "    early_stop = keras.callbacks.EarlyStopping(monitor='val_loss', patience=3, restore_best_weights=True)\n",
    "    if name == 'MLP':\n",
    "        model.fit(X_train, y_train, validation_split=0.2, epochs=10, callbacks=[early_stop], verbose=0)\n",
    "        y_pred = model.predict(X_test)\n",
    "    else:\n",
    "        X_train_transformed = X_train.to_numpy().reshape((X_train.shape[0], X_train.shape[1], 1))\n",
    "        model.fit(X_train_transformed, y_train, validation_split=0.2, epochs=10, callbacks=[early_stop], verbose=0)\n",
    "        X_test_transformed = X_test.to_numpy().reshape((X_test.shape[0], X_test.shape[1], 1))\n",
    "        y_pred = model.predict(X_test_transformed)\n",
    "\n",
    "    # 실제 값과 예측 값의 차이를 계산하여 평가 지표를 구함\n",
    "    mae = mean_absolute_error(y_test, y_pred)\n",
    "    mse = mean_squared_error(y_test, y_pred)\n",
    "    rmse = np.sqrt(mse)\n",
    "    mape = mean_absolute_percentage_error(y_test, y_pred)\n",
    "    smape = symmetric_mean_absolute_percentage_error(y_test, y_pred)   \n",
    "    r2 = r2_score(y_test, y_pred)\n",
    "\n",
    "    print(f'{name} - MAE: {mae:.4f}, MSE: {mse:.4f}, RMSE: {rmse:.4f}, MAPE: {mape:.4f}, SMAPE: {smape:.4f}, R2: {r2:.4f}')"
   ]
  },
  {
   "cell_type": "code",
   "execution_count": 55,
   "metadata": {},
   "outputs": [
    {
     "name": "stdout",
     "output_type": "stream",
     "text": [
      "MLP - MAE: 0.0940, MSE: 0.0150, RMSE: 0.1224, MAPE: 29.4476, SMAPE: 24.9550, R2: 0.2183\n",
      "CNN - MAE: 0.0960, MSE: 0.0132, RMSE: 0.1147, MAPE: 25.0184, SMAPE: 24.8561, R2: 0.3126\n",
      "RNN - MAE: 0.1067, MSE: 0.0174, RMSE: 0.1320, MAPE: 25.5343, SMAPE: 21.3825, R2: 0.0901\n",
      "LSTM - MAE: 0.1087, MSE: 0.0173, RMSE: 0.1316, MAPE: 23.9215, SMAPE: 20.1908, R2: 0.0958\n",
      "GRU - MAE: 0.1071, MSE: 0.0179, RMSE: 0.1338, MAPE: 22.9761, SMAPE: 19.7122, R2: 0.0658\n"
     ]
    }
   ],
   "source": [
    "data_60 = data[data['Thining Rate'] == 60]\n",
    "X_test = data_60.drop('Multiplier', axis=1)\n",
    "y_test = data_60['Multiplier']\n",
    "\n",
    "# data_60 = data[data['Thining Rate'] == 60]\n",
    "\n",
    "\n",
    "# 모델 컴파일 및 학습\n",
    "for name, model in models.items():\n",
    "    if name == 'MLP':\n",
    "        y_pred = model.predict(X_test)\n",
    "    else:\n",
    "        X_test_transformed = X_test.to_numpy().reshape((X_test.shape[0], X_test.shape[1], 1))\n",
    "        y_pred = model.predict(X_test_transformed)\n",
    "\n",
    "    # 실제 값과 예측 값의 차이를 계산하여 평가 지표를 구함\n",
    "    mae = mean_absolute_error(y_test, y_pred)\n",
    "    mse = mean_squared_error(y_test, y_pred)\n",
    "    rmse = np.sqrt(mse)\n",
    "    mape = mean_absolute_percentage_error(y_test, y_pred)\n",
    "    smape = symmetric_mean_absolute_percentage_error(y_test, y_pred)   \n",
    "    r2 = r2_score(y_test, y_pred)\n",
    "    \n",
    "    print(f'{name} - MAE: {mae:.4f}, MSE: {mse:.4f}, RMSE: {rmse:.4f}, MAPE: {mape:.4f}, SMAPE: {smape:.4f}, R2: {r2:.4f}')"
   ]
  },
  {
   "cell_type": "code",
   "execution_count": 5,
   "metadata": {},
   "outputs": [
    {
     "name": "stdout",
     "output_type": "stream",
     "text": [
      "  Thining Part Moment Direction Thining Rate      Boundary Type  \\\n",
      "0        Intra              IPO          30%  Elastic Shakedown   \n",
      "1        Intra              IPO          30%  Elastic Shakedown   \n",
      "2        Intra              IPO          30%  Elastic Shakedown   \n",
      "3        Intra              IPO          30%  Elastic Shakedown   \n",
      "4        Intra              IPO          30%  Elastic Shakedown   \n",
      "\n",
      "   Inner Pressure  Multiplier  \n",
      "0           0.000    0.356588  \n",
      "1           2.207    0.396221  \n",
      "2           4.414    0.445776  \n",
      "3           6.621    0.509500  \n",
      "4           8.828    0.594469  \n"
     ]
    }
   ],
   "source": [
    "import pandas as pd\n",
    "import numpy as np\n",
    "\n",
    "# 데이터 불러오기\n",
    "data = pd.read_csv('WallThinning_3050_data.csv')\n",
    "data = data.drop('Moment', axis=1)\n",
    "# 데이터 확인\n",
    "print(data.head())"
   ]
  },
  {
   "cell_type": "code",
   "execution_count": 6,
   "metadata": {},
   "outputs": [
    {
     "name": "stdout",
     "output_type": "stream",
     "text": [
      "  Thining Part Moment Direction Thining Rate      Boundary Type  \\\n",
      "0        Intra              IPO          30%  Elastic Shakedown   \n",
      "1        Intra              IPO          30%  Elastic Shakedown   \n",
      "2        Intra              IPO          30%  Elastic Shakedown   \n",
      "3        Intra              IPO          30%  Elastic Shakedown   \n",
      "4        Intra              IPO          30%  Elastic Shakedown   \n",
      "\n",
      "   Inner Pressure  Multiplier  \n",
      "0             0.0    0.356588  \n",
      "1             0.1    0.396221  \n",
      "2             0.2    0.445776  \n",
      "3             0.3    0.509500  \n",
      "4             0.4    0.594469  \n"
     ]
    }
   ],
   "source": [
    "from sklearn.preprocessing import MinMaxScaler\n",
    "\n",
    "# Min-Max Scaler 객체 생성\n",
    "scaler = MinMaxScaler()\n",
    "\n",
    "# 'Inner Pressure' 열 선택 및 Reshape (-1, 1) 필요 (scaler는 2D 배열을 요구함)\n",
    "inner_Pressure = data['Inner Pressure'].values.reshape(-1, 1)\n",
    "\n",
    "# Min-Max Normalization 적용\n",
    "data['Inner Pressure'] = scaler.fit_transform(inner_Pressure)\n",
    "\n",
    "# 결과 확인\n",
    "print(data.head())\n"
   ]
  },
  {
   "cell_type": "code",
   "execution_count": 7,
   "metadata": {},
   "outputs": [],
   "source": [
    "from sklearn.model_selection import train_test_split\n",
    "from sklearn.preprocessing import LabelEncoder, StandardScaler\n",
    "\n",
    "data = pd.get_dummies(data, columns=['Thining Part','Moment Direction','Boundary Type'])\n",
    "\n",
    "# Numerical 변수 전처리 (Inner pressure)\n",
    "data['Thining Rate'] = data['Thining Rate'].str.rstrip('%').astype('int')\n",
    "\n",
    "# 데이터 분할\n",
    "X = data.drop('Multiplier', axis=1)\n",
    "y = data['Multiplier']"
   ]
  },
  {
   "cell_type": "code",
   "execution_count": 9,
   "metadata": {},
   "outputs": [
    {
     "name": "stdout",
     "output_type": "stream",
     "text": [
      "MLP - MAE: 0.2400, MSE: 0.0866, RMSE: 0.2944, MAPE: 35.9376, SMAPE: 45.3584, R2: -2.5883\n",
      "CNN - MAE: 0.0981, MSE: 0.0150, RMSE: 0.1225, MAPE: 25.5816, SMAPE: 22.3467, R2: 0.3789\n",
      "RNN - MAE: 0.1229, MSE: 0.0216, RMSE: 0.1470, MAPE: 24.5112, SMAPE: 23.7320, R2: 0.1047\n",
      "LSTM - MAE: 0.1168, MSE: 0.0213, RMSE: 0.1459, MAPE: 24.5965, SMAPE: 21.0523, R2: 0.1186\n",
      "GRU - MAE: 0.1201, MSE: 0.0208, RMSE: 0.1444, MAPE: 22.9089, SMAPE: 20.8052, R2: 0.1370\n"
     ]
    }
   ],
   "source": [
    "# 모델 컴파일 및 학습\n",
    "for name, model in models.items():\n",
    "    if name == 'MLP':\n",
    "        y_pred = model.predict(X)\n",
    "    else:\n",
    "        X_transformed = X.to_numpy().reshape((X.shape[0], X.shape[1], 1))\n",
    "        y_pred = model.predict(X_transformed)\n",
    "\n",
    "    # 실제 값과 예측 값의 차이를 계산하여 평가 지표를 구함\n",
    "    mae = mean_absolute_error(y, y_pred)\n",
    "    mse = mean_squared_error(y, y_pred)\n",
    "    rmse = np.sqrt(mse)\n",
    "    mape = mean_absolute_percentage_error(y, y_pred)\n",
    "    smape = symmetric_mean_absolute_percentage_error(y, y_pred)   \n",
    "    r2 = r2_score(y, y_pred)\n",
    "\n",
    "    print(f'{name} - MAE: {mae:.4f}, MSE: {mse:.4f}, RMSE: {rmse:.4f}, MAPE: {mape:.4f}, SMAPE: {smape:.4f}, R2: {r2:.4f}')"
   ]
  },
  {
   "cell_type": "code",
   "execution_count": null,
   "metadata": {},
   "outputs": [],
   "source": []
  }
 ],
 "metadata": {
  "kernelspec": {
   "display_name": "Python 3.8.18 ('spcl': conda)",
   "language": "python",
   "name": "python3"
  },
  "language_info": {
   "codemirror_mode": {
    "name": "ipython",
    "version": 3
   },
   "file_extension": ".py",
   "mimetype": "text/x-python",
   "name": "python",
   "nbconvert_exporter": "python",
   "pygments_lexer": "ipython3",
   "version": "3.8.18"
  },
  "vscode": {
   "interpreter": {
    "hash": "d8408b08ccc5a9d79218b244855f68aa68c640671a1d6af6a838c8504f0db3f6"
   }
  }
 },
 "nbformat": 4,
 "nbformat_minor": 2
}
