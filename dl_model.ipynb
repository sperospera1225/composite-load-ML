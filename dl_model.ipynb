{
 "cells": [
  {
   "cell_type": "code",
   "execution_count": 1,
   "metadata": {},
   "outputs": [
    {
     "name": "stdout",
     "output_type": "stream",
     "text": [
      "  Thining Part Moment Direction Thining Rate Boundary Type  Inner Pressure  \\\n",
      "0        Extra              IPO          20%    Limit Load          22.070   \n",
      "1        Extra              IPO          20%    Limit Load          19.863   \n",
      "2        Extra              IPO          20%    Limit Load          17.656   \n",
      "3        Extra              IPO          20%    Limit Load          15.449   \n",
      "4        Extra              IPO          20%    Limit Load          13.242   \n",
      "\n",
      "   Multiplier  \n",
      "0    0.754368  \n",
      "1    0.889164  \n",
      "2    1.000607  \n",
      "3    1.022539  \n",
      "4    0.970476  \n"
     ]
    }
   ],
   "source": [
    "import pandas as pd\n",
    "import numpy as np\n",
    "\n",
    "# 데이터 불러오기\n",
    "data1 = pd.read_csv('WallThining_data.csv')\n",
    "data2 = pd.read_csv('WallThinning_3050_data.csv')\n",
    "data3 = pd.read_csv('WallThinning_10_data.csv')\n",
    "data = pd.concat([data1, data2, data3], axis=0)\n",
    "data = data.drop('Moment', axis=1).reset_index(drop=True)\n",
    "# 데이터 확인\n",
    "print(data.head())"
   ]
  },
  {
   "cell_type": "code",
   "execution_count": 2,
   "metadata": {},
   "outputs": [
    {
     "data": {
      "text/plain": [
       "(594, 396, 198)"
      ]
     },
     "execution_count": 2,
     "metadata": {},
     "output_type": "execute_result"
    }
   ],
   "source": [
    "len(data1), len(data2), len(data3)"
   ]
  },
  {
   "cell_type": "code",
   "execution_count": 3,
   "metadata": {},
   "outputs": [
    {
     "name": "stdout",
     "output_type": "stream",
     "text": [
      "  Thining Part Moment Direction Thining Rate Boundary Type  Inner Pressure  \\\n",
      "0        Extra              IPO          20%    Limit Load             1.0   \n",
      "1        Extra              IPO          20%    Limit Load             0.9   \n",
      "2        Extra              IPO          20%    Limit Load             0.8   \n",
      "3        Extra              IPO          20%    Limit Load             0.7   \n",
      "4        Extra              IPO          20%    Limit Load             0.6   \n",
      "\n",
      "   Multiplier  \n",
      "0    0.754368  \n",
      "1    0.889164  \n",
      "2    1.000607  \n",
      "3    1.022539  \n",
      "4    0.970476  \n"
     ]
    }
   ],
   "source": [
    "from sklearn.preprocessing import MinMaxScaler\n",
    "\n",
    "# Min-Max Scaler 객체 생성\n",
    "scaler = MinMaxScaler()\n",
    "\n",
    "# 'Inner Pressure' 열 선택 및 Reshape (-1, 1) 필요 (scaler는 2D 배열을 요구함)\n",
    "inner_Pressure = data['Inner Pressure'].values.reshape(-1, 1)\n",
    "\n",
    "# Min-Max Normalization 적용\n",
    "data['Inner Pressure'] = scaler.fit_transform(inner_Pressure)\n",
    "\n",
    "# 결과 확인\n",
    "print(data.head())"
   ]
  },
  {
   "cell_type": "code",
   "execution_count": 4,
   "metadata": {},
   "outputs": [],
   "source": [
    "from sklearn.model_selection import train_test_split\n",
    "from sklearn.preprocessing import LabelEncoder, StandardScaler\n",
    "\n",
    "# Categorical 변수 인코딩\n",
    "# le = LabelEncoder()\n",
    "# data['Thining Part'] = le.fit_transform(data['Thining Part'])\n",
    "# data['Moment Direction'] = le.fit_transform(data['Moment Direction'])\n",
    "# data['Boundary Type'] = le.fit_transform(data['Boundary Type'])\n",
    "\n",
    "data = pd.get_dummies(data, columns=['Thining Part','Moment Direction','Boundary Type'])\n",
    "\n",
    "# Numerical 변수 전처리 (Inner pressure)\n",
    "data['Thining Rate'] = data['Thining Rate'].str.rstrip('%').astype('int')\n",
    "\n",
    "# 데이터 분할\n",
    "X = data.drop('Multiplier', axis=1)\n",
    "y = data['Multiplier']\n",
    "X_train, X_test, y_train, y_test = train_test_split(X, y, test_size=0.2, random_state=42)"
   ]
  },
  {
   "cell_type": "code",
   "execution_count": 26,
   "metadata": {},
   "outputs": [
    {
     "name": "stdout",
     "output_type": "stream",
     "text": [
      "주성분별 설명된 분산 비율: [0.99341508 0.001703  ]\n"
     ]
    },
    {
     "data": {
      "image/png": "[encoded data removed]",
      "text/plain": [
       "<Figure size 576x432 with 2 Axes>"
      ]
     },
     "metadata": {
      "needs_background": "light"
     },
     "output_type": "display_data"
    }
   ],
   "source": [
    "from sklearn.decomposition import PCA\n",
    "import matplotlib.pyplot as plt\n",
    "\n",
    "# PCA 객체 생성 (주성분 수 설정)\n",
    "pca = PCA(n_components=2)\n",
    "\n",
    "# PCA 수행\n",
    "X_pca = pca.fit_transform(X)\n",
    "\n",
    "# 주성분별 설명된 분산 비율 확인\n",
    "explained_variance_ratio = pca.explained_variance_ratio_\n",
    "print(\"주성분별 설명된 분산 비율:\", explained_variance_ratio)\n",
    "\n",
    "# PCA 결과를 데이터프레임으로 변환\n",
    "pca_df = pd.DataFrame(data=X_pca, columns=['PC1', 'PC2'])\n",
    "pca_df['Multiplier'] = data['Multiplier']\n",
    "\n",
    "# PCA 결과 시각화\n",
    "plt.figure(figsize=(8, 6))\n",
    "scatter = plt.scatter(pca_df['PC1'], pca_df['PC2'], c=pca_df['Multiplier'], cmap='viridis')\n",
    "plt.xlabel('PC1')\n",
    "plt.ylabel('PC2')\n",
    "plt.colorbar(scatter, label='Multiplier')\n",
    "plt.title('PCA Result Visualization')\n",
    "plt.show()"
   ]
  },
  {
   "cell_type": "code",
   "execution_count": 25,
   "metadata": {},
   "outputs": [
    {
     "data": {
      "image/png": "[encoded data removed]",
      "text/plain": [
       "<Figure size 576x432 with 2 Axes>"
      ]
     },
     "metadata": {
      "needs_background": "light"
     },
     "output_type": "display_data"
    }
   ],
   "source": [
    "from sklearn.decomposition import KernelPCA\n",
    "import matplotlib.pyplot as plt\n",
    "\n",
    "# 커널 PCA 객체 생성\n",
    "kpca = KernelPCA(n_components=2, kernel='rbf', gamma=None)\n",
    "\n",
    "# 커널 PCA 수행\n",
    "X_kpca = kpca.fit_transform(X)\n",
    "\n",
    "# 커널 PCA 결과를 데이터프레임으로 변환\n",
    "kpca_df = pd.DataFrame(data=X_kpca, columns=['PC1', 'PC2'])\n",
    "kpca_df['Multiplier'] = data['Multiplier']\n",
    "\n",
    "# 커널 PCA 결과 시각화\n",
    "plt.figure(figsize=(8, 6))\n",
    "scatter = plt.scatter(kpca_df['PC1'], kpca_df['PC2'], c=kpca_df['Multiplier'], cmap='viridis')\n",
    "plt.xlabel('PC1')\n",
    "plt.ylabel('PC2')\n",
    "plt.colorbar(scatter, label='Multiplier')\n",
    "plt.title('Kernel PCA Result Visualization')\n",
    "plt.show()"
   ]
  },
  {
   "cell_type": "code",
   "execution_count": 29,
   "metadata": {},
   "outputs": [
    {
     "data": {
      "image/png": "[encoded data removed]",
      "text/plain": [
       "<Figure size 432x288 with 1 Axes>"
      ]
     },
     "metadata": {
      "needs_background": "light"
     },
     "output_type": "display_data"
    },
    {
     "data": {
      "image/png": "[encoded data removed]",
      "text/plain": [
       "<Figure size 576x432 with 2 Axes>"
      ]
     },
     "metadata": {
      "needs_background": "light"
     },
     "output_type": "display_data"
    }
   ],
   "source": [
    "from sklearn.cluster import KMeans\n",
    "import matplotlib.pyplot as plt\n",
    "\n",
    "# 최적의 클러스터 개수 찾기\n",
    "inertia = []\n",
    "for k in range(1, 11):\n",
    "    kmeans = KMeans(n_clusters=k, random_state=42)\n",
    "    kmeans.fit(X_kpca)\n",
    "    inertia.append(kmeans.inertia_)\n",
    "\n",
    "# Elbow 그래프 그리기\n",
    "plt.plot(range(1, 11), inertia, marker='o')\n",
    "plt.xlabel('Number of Clusters')\n",
    "plt.ylabel('Inertia')\n",
    "plt.title('Elbow Method')\n",
    "plt.show()\n",
    "\n",
    "# 최적의 클러스터 개수 선택 (예: 3)\n",
    "n_clusters = 3\n",
    "\n",
    "# K-means 클러스터링 수행\n",
    "kmeans = KMeans(n_clusters=n_clusters, random_state=42)\n",
    "cluster_labels = kmeans.fit_predict(X_kpca)\n",
    "\n",
    "# 클러스터링 결과를 데이터프레임에 추가\n",
    "kpca_df['Cluster'] = cluster_labels\n",
    "\n",
    "# 클러스터링 결과 시각화\n",
    "plt.figure(figsize=(8, 6))\n",
    "scatter = plt.scatter(kpca_df['PC1'], kpca_df['PC2'], c=kpca_df['Cluster'], cmap='viridis')\n",
    "plt.xlabel('PC1')\n",
    "plt.ylabel('PC2')\n",
    "plt.colorbar(scatter, label='Cluster')\n",
    "plt.title('K-means Clustering Result')\n",
    "plt.show()"
   ]
  },
  {
   "cell_type": "code",
   "execution_count": 30,
   "metadata": {},
   "outputs": [
    {
     "name": "stdout",
     "output_type": "stream",
     "text": [
      "Cluster 0:\n",
      "       Thining Rate  Inner Pressure  Multiplier  Thining Part_Crown  \\\n",
      "count    396.000000      396.000000  396.000000          396.000000   \n",
      "mean      15.000000        0.500000    0.693787            0.333333   \n",
      "std        5.006325        0.316628    0.162687            0.472001   \n",
      "min       10.000000        0.000000    0.326220            0.000000   \n",
      "25%       10.000000        0.200000    0.571887            0.000000   \n",
      "50%       15.000000        0.500000    0.718690            0.000000   \n",
      "75%       20.000000        0.800000    0.815901            1.000000   \n",
      "max       20.000000        1.000000    1.023133            1.000000   \n",
      "\n",
      "       Thining Part_Extra  Thining Part_Intra  Moment Direction_IPC  \\\n",
      "count          396.000000          396.000000            396.000000   \n",
      "mean             0.333333            0.333333              0.333333   \n",
      "std              0.472001            0.472001              0.472001   \n",
      "min              0.000000            0.000000              0.000000   \n",
      "25%              0.000000            0.000000              0.000000   \n",
      "50%              0.000000            0.000000              0.000000   \n",
      "75%              1.000000            1.000000              1.000000   \n",
      "max              1.000000            1.000000              1.000000   \n",
      "\n",
      "       Moment Direction_IPO  Moment Direction_OP  \\\n",
      "count            396.000000           396.000000   \n",
      "mean               0.333333             0.333333   \n",
      "std                0.472001             0.472001   \n",
      "min                0.000000             0.000000   \n",
      "25%                0.000000             0.000000   \n",
      "50%                0.000000             0.000000   \n",
      "75%                1.000000             1.000000   \n",
      "max                1.000000             1.000000   \n",
      "\n",
      "       Boundary Type_Elastic Shakedown  Boundary Type_Limit Load  Cluster  \n",
      "count                       396.000000                396.000000    396.0  \n",
      "mean                          0.500000                  0.500000      0.0  \n",
      "std                           0.500633                  0.500633      0.0  \n",
      "min                           0.000000                  0.000000      0.0  \n",
      "25%                           0.000000                  0.000000      0.0  \n",
      "50%                           0.500000                  0.500000      0.0  \n",
      "75%                           1.000000                  1.000000      0.0  \n",
      "max                           1.000000                  1.000000      0.0  \n",
      "\n",
      "Cluster 1:\n",
      "       Thining Rate  Inner Pressure  Multiplier  Thining Part_Crown  \\\n",
      "count    396.000000      396.000000  396.000000          396.000000   \n",
      "mean      35.000000        0.500000    0.668498            0.333333   \n",
      "std        5.006325        0.316628    0.158779            0.472001   \n",
      "min       30.000000        0.000000    0.285538            0.000000   \n",
      "25%       30.000000        0.200000    0.550989            0.000000   \n",
      "50%       35.000000        0.500000    0.687050            0.000000   \n",
      "75%       40.000000        0.800000    0.783000            1.000000   \n",
      "max       40.000000        1.000000    1.022017            1.000000   \n",
      "\n",
      "       Thining Part_Extra  Thining Part_Intra  Moment Direction_IPC  \\\n",
      "count          396.000000          396.000000            396.000000   \n",
      "mean             0.333333            0.333333              0.333333   \n",
      "std              0.472001            0.472001              0.472001   \n",
      "min              0.000000            0.000000              0.000000   \n",
      "25%              0.000000            0.000000              0.000000   \n",
      "50%              0.000000            0.000000              0.000000   \n",
      "75%              1.000000            1.000000              1.000000   \n",
      "max              1.000000            1.000000              1.000000   \n",
      "\n",
      "       Moment Direction_IPO  Moment Direction_OP  \\\n",
      "count            396.000000           396.000000   \n",
      "mean               0.333333             0.333333   \n",
      "std                0.472001             0.472001   \n",
      "min                0.000000             0.000000   \n",
      "25%                0.000000             0.000000   \n",
      "50%                0.000000             0.000000   \n",
      "75%                1.000000             1.000000   \n",
      "max                1.000000             1.000000   \n",
      "\n",
      "       Boundary Type_Elastic Shakedown  Boundary Type_Limit Load  Cluster  \n",
      "count                       396.000000                396.000000    396.0  \n",
      "mean                          0.500000                  0.500000      1.0  \n",
      "std                           0.500633                  0.500633      0.0  \n",
      "min                           0.000000                  0.000000      1.0  \n",
      "25%                           0.000000                  0.000000      1.0  \n",
      "50%                           0.500000                  0.500000      1.0  \n",
      "75%                           1.000000                  1.000000      1.0  \n",
      "max                           1.000000                  1.000000      1.0  \n",
      "\n",
      "Cluster 2:\n",
      "       Thining Rate  Inner Pressure  Multiplier  Thining Part_Crown  \\\n",
      "count    396.000000      396.000000  396.000000          396.000000   \n",
      "mean      55.000000        0.500000    0.615401            0.333333   \n",
      "std        5.006325        0.316628    0.145576            0.472001   \n",
      "min       50.000000        0.000000    0.244097            0.000000   \n",
      "25%       50.000000        0.200000    0.521203            0.000000   \n",
      "50%       55.000000        0.500000    0.620083            0.000000   \n",
      "75%       60.000000        0.800000    0.713767            1.000000   \n",
      "max       60.000000        1.000000    0.973177            1.000000   \n",
      "\n",
      "       Thining Part_Extra  Thining Part_Intra  Moment Direction_IPC  \\\n",
      "count          396.000000          396.000000            396.000000   \n",
      "mean             0.333333            0.333333              0.333333   \n",
      "std              0.472001            0.472001              0.472001   \n",
      "min              0.000000            0.000000              0.000000   \n",
      "25%              0.000000            0.000000              0.000000   \n",
      "50%              0.000000            0.000000              0.000000   \n",
      "75%              1.000000            1.000000              1.000000   \n",
      "max              1.000000            1.000000              1.000000   \n",
      "\n",
      "       Moment Direction_IPO  Moment Direction_OP  \\\n",
      "count            396.000000           396.000000   \n",
      "mean               0.333333             0.333333   \n",
      "std                0.472001             0.472001   \n",
      "min                0.000000             0.000000   \n",
      "25%                0.000000             0.000000   \n",
      "50%                0.000000             0.000000   \n",
      "75%                1.000000             1.000000   \n",
      "max                1.000000             1.000000   \n",
      "\n",
      "       Boundary Type_Elastic Shakedown  Boundary Type_Limit Load  Cluster  \n",
      "count                       396.000000                396.000000    396.0  \n",
      "mean                          0.500000                  0.500000      2.0  \n",
      "std                           0.500633                  0.500633      0.0  \n",
      "min                           0.000000                  0.000000      2.0  \n",
      "25%                           0.000000                  0.000000      2.0  \n",
      "50%                           0.500000                  0.500000      2.0  \n",
      "75%                           1.000000                  1.000000      2.0  \n",
      "max                           1.000000                  1.000000      2.0  \n",
      "\n"
     ]
    }
   ],
   "source": [
    "# 클러스터링 결과를 원본 데이터프레임에 추가\n",
    "data['Cluster'] = cluster_labels\n",
    "\n",
    "# 클러스터별 특성 확인\n",
    "for cluster in range(n_clusters):\n",
    "    cluster_data = data[data['Cluster'] == cluster]\n",
    "    print(f'Cluster {cluster}:')\n",
    "    print(cluster_data.describe())\n",
    "    print()"
   ]
  },
  {
   "cell_type": "code",
   "execution_count": 20,
   "metadata": {},
   "outputs": [
    {
     "name": "stdout",
     "output_type": "stream",
     "text": [
      "WARNING:tensorflow:Layer lstm_3 will not use cuDNN kernels since it doesn't meet the criteria. It will use a generic GPU kernel as fallback when running on GPU.\n",
      "WARNING:tensorflow:Layer gru_3 will not use cuDNN kernels since it doesn't meet the criteria. It will use a generic GPU kernel as fallback when running on GPU.\n",
      "MLP - MAE: 0.1472, MSE: 0.0318, RMSE: 0.1782, MAPE: 25.7255, SMAPE: 25.6028, R2: -0.2587\n",
      "CNN - MAE: 0.0684, MSE: 0.0071, RMSE: 0.0845, MAPE: 27.5107, SMAPE: 26.5246, R2: 0.7170\n",
      "RNN - MAE: 0.1108, MSE: 0.0172, RMSE: 0.1313, MAPE: 24.8060, SMAPE: 22.7702, R2: 0.3172\n",
      "LSTM - MAE: 0.0933, MSE: 0.0139, RMSE: 0.1178, MAPE: 25.3472, SMAPE: 22.9806, R2: 0.4506\n",
      "GRU - MAE: 0.1141, MSE: 0.0201, RMSE: 0.1419, MAPE: 25.3210, SMAPE: 21.8315, R2: 0.2017\n"
     ]
    }
   ],
   "source": [
    "import numpy as np\n",
    "from sklearn.model_selection import train_test_split\n",
    "from sklearn.metrics import mean_absolute_error, mean_squared_error, r2_score\n",
    "from tensorflow.keras.models import Sequential\n",
    "from tensorflow.keras.layers import Dense, LSTM, GRU, SimpleRNN, Conv1D, MaxPooling1D, Flatten\n",
    "from tensorflow.keras.utils import to_categorical\n",
    "from tensorflow import keras\n",
    "\n",
    "models = {\n",
    "    'MLP': Sequential([\n",
    "        Dense(64, activation='relu', input_shape=(10,)),\n",
    "        Dense(32, activation='relu'),\n",
    "        Dense(1, activation='linear')\n",
    "    ]),\n",
    "    'CNN': Sequential([\n",
    "        # Conv1D는 3D 입력이 필요하므로 (샘플 수, 타임스텝, 특성) 형태로 변환 필요\n",
    "        Conv1D(filters=64, kernel_size=3, activation='relu', input_shape=(10, 1)),\n",
    "        MaxPooling1D(pool_size=2),\n",
    "        Flatten(),\n",
    "        Dense(50, activation='relu'),\n",
    "        Dense(1, activation='linear')\n",
    "    ]),\n",
    "    'RNN': Sequential([\n",
    "        SimpleRNN(50, activation='relu', input_shape=(10, 1)),\n",
    "        Dense(1, activation='linear')\n",
    "    ]),\n",
    "    'LSTM': Sequential([\n",
    "        LSTM(50, activation='relu', input_shape=(10, 1)),\n",
    "        Dense(1, activation='linear')\n",
    "    ]),\n",
    "    'GRU': Sequential([\n",
    "        GRU(50, activation='relu', input_shape=(10, 1)),\n",
    "        Dense(1, activation='linear')\n",
    "    ])\n",
    "}\n",
    "\n",
    "# MAPE와 SMAPE 함수 정의\n",
    "def mean_absolute_percentage_error(y_true, y_pred): \n",
    "    y_true, y_pred = np.array(y_true), np.array(y_pred)\n",
    "    return np.mean(np.abs((y_true - y_pred) / y_true)) * 100\n",
    "\n",
    "def symmetric_mean_absolute_percentage_error(y_true, y_pred):\n",
    "    y_true, y_pred = np.array(y_true), np.array(y_pred)\n",
    "    return np.mean(np.abs(y_true - y_pred) / ((np.abs(y_true) + np.abs(y_pred)) / 2)) * 100\n",
    "\n",
    "\n",
    "# 모델 컴파일 및 학습\n",
    "for name, model in models.items():\n",
    "    model.compile(optimizer='adam', loss='mse', metrics=['mae'])\n",
    "    early_stop = keras.callbacks.EarlyStopping(monitor='val_loss', patience=3, restore_best_weights=True)\n",
    "    if name == 'MLP':\n",
    "        model.fit(X_train, y_train, validation_split=0.2, epochs=10, callbacks=[early_stop], verbose=0)\n",
    "        y_pred = model.predict(X_test)\n",
    "    else:\n",
    "        X_train_transformed = X_train.to_numpy().reshape((X_train.shape[0], X_train.shape[1], 1))\n",
    "        model.fit(X_train_transformed, y_train, validation_split=0.2, epochs=10, callbacks=[early_stop], verbose=0)\n",
    "        X_test_transformed = X_test.to_numpy().reshape((X_test.shape[0], X_test.shape[1], 1))\n",
    "        y_pred = model.predict(X_test_transformed)\n",
    "\n",
    "    # 실제 값과 예측 값의 차이를 계산하여 평가 지표를 구함\n",
    "    mae = mean_absolute_error(y_test, y_pred)\n",
    "    mse = mean_squared_error(y_test, y_pred)\n",
    "    rmse = np.sqrt(mse)\n",
    "    mape = mean_absolute_percentage_error(y_test, y_pred)\n",
    "    smape = symmetric_mean_absolute_percentage_error(y_test, y_pred)   \n",
    "    r2 = r2_score(y_test, y_pred)\n",
    "\n",
    "    print(f'{name} - MAE: {mae:.4f}, MSE: {mse:.4f}, RMSE: {rmse:.4f}, MAPE: {mape:.4f}, SMAPE: {smape:.4f}, R2: {r2:.4f}')"
   ]
  },
  {
   "cell_type": "code",
   "execution_count": null,
   "metadata": {},
   "outputs": [
    {
     "name": "stdout",
     "output_type": "stream",
     "text": [
      "MLP - MAE: 0.0824, MSE: 0.0101, RMSE: 0.1005, MAPE: 27.3844, SMAPE: 24.0907, R2: 0.6207\n",
      "CNN - MAE: 0.0783, MSE: 0.0093, RMSE: 0.0966, MAPE: 25.4266, SMAPE: 23.3310, R2: 0.6498\n",
      "RNN - MAE: 0.1294, MSE: 0.0229, RMSE: 0.1514, MAPE: 23.7018, SMAPE: 22.4303, R2: 0.1399\n",
      "LSTM - MAE: 0.1270, MSE: 0.0228, RMSE: 0.1512, MAPE: 22.4460, SMAPE: 20.6219, R2: 0.1426\n",
      "GRU - MAE: 0.1288, MSE: 0.0230, RMSE: 0.1516, MAPE: 22.9349, SMAPE: 20.6627, R2: 0.1378\n"
     ]
    }
   ],
   "source": [
    "data_10 = data[data['Thining Rate'] == 10]\n",
    "X_test = data_10.drop('Multiplier', axis=1)\n",
    "y_test = data_10['Multiplier']\n",
    "\n",
    "# data_10 = data[data['Thining Rate'] == 10]\n",
    "\n",
    "\n",
    "# 모델 컴파일 및 학습\n",
    "for name, model in models.items():\n",
    "    if name == 'MLP':\n",
    "        y_pred = model.predict(X_test)\n",
    "    else:\n",
    "        X_test_transformed = X_test.to_numpy().reshape((X_test.shape[0], X_test.shape[1], 1))\n",
    "        y_pred = model.predict(X_test_transformed)\n",
    "\n",
    "    # 실제 값과 예측 값의 차이를 계산하여 평가 지표를 구함\n",
    "    mae = mean_absolute_error(y_test, y_pred)\n",
    "    mse = mean_squared_error(y_test, y_pred)\n",
    "    rmse = np.sqrt(mse)\n",
    "    mape = mean_absolute_percentage_error(y_test, y_pred)\n",
    "    smape = symmetric_mean_absolute_percentage_error(y_test, y_pred)   \n",
    "    r2 = r2_score(y_test, y_pred)\n",
    "    \n",
    "    print(f'{name} - MAE: {mae:.4f}, MSE: {mse:.4f}, RMSE: {rmse:.4f}, MAPE: {mape:.4f}, SMAPE: {smape:.4f}, R2: {r2:.4f}')"
   ]
  },
  {
   "cell_type": "code",
   "execution_count": 7,
   "metadata": {},
   "outputs": [
    {
     "name": "stdout",
     "output_type": "stream",
     "text": [
      "MLP - MAE: 0.1132, MSE: 0.0206, RMSE: 0.1435, MAPE: 32.5123, SMAPE: 26.0796, R2: -0.0757\n",
      "CNN - MAE: 0.0899, MSE: 0.0124, RMSE: 0.1112, MAPE: 29.1831, SMAPE: 25.0307, R2: 0.3542\n",
      "RNN - MAE: 0.0968, MSE: 0.0135, RMSE: 0.1162, MAPE: 24.8847, SMAPE: 22.0737, R2: 0.2952\n",
      "LSTM - MAE: 0.1044, MSE: 0.0171, RMSE: 0.1306, MAPE: 21.0341, SMAPE: 19.6271, R2: 0.1095\n",
      "GRU - MAE: 0.1084, MSE: 0.0181, RMSE: 0.1347, MAPE: 24.8348, SMAPE: 20.7766, R2: 0.0525\n"
     ]
    }
   ],
   "source": [
    "data_60 = data[data['Thining Rate'] == 60]\n",
    "X_test = data_60.drop('Multiplier', axis=1)\n",
    "y_test = data_60['Multiplier']\n",
    "\n",
    "# data_60 = data[data['Thining Rate'] == 60]\n",
    "\n",
    "\n",
    "# 모델 컴파일 및 학습\n",
    "for name, model in models.items():\n",
    "    if name == 'MLP':\n",
    "        y_pred = model.predict(X_test)\n",
    "    else:\n",
    "        X_test_transformed = X_test.to_numpy().reshape((X_test.shape[0], X_test.shape[1], 1))\n",
    "        y_pred = model.predict(X_test_transformed)\n",
    "\n",
    "    # 실제 값과 예측 값의 차이를 계산하여 평가 지표를 구함\n",
    "    mae = mean_absolute_error(y_test, y_pred)\n",
    "    mse = mean_squared_error(y_test, y_pred)\n",
    "    rmse = np.sqrt(mse)\n",
    "    mape = mean_absolute_percentage_error(y_test, y_pred)\n",
    "    smape = symmetric_mean_absolute_percentage_error(y_test, y_pred)   \n",
    "    r2 = r2_score(y_test, y_pred)\n",
    "    \n",
    "    print(f'{name} - MAE: {mae:.4f}, MSE: {mse:.4f}, RMSE: {rmse:.4f}, MAPE: {mape:.4f}, SMAPE: {smape:.4f}, R2: {r2:.4f}')"
   ]
  },
  {
   "cell_type": "code",
   "execution_count": 21,
   "metadata": {},
   "outputs": [
    {
     "name": "stdout",
     "output_type": "stream",
     "text": [
      "  Thining Part Moment Direction Thining Rate      Boundary Type  \\\n",
      "0        Intra              IPO          10%  Elastic Shakedown   \n",
      "1        Intra              IPO          10%  Elastic Shakedown   \n",
      "2        Intra              IPO          10%  Elastic Shakedown   \n",
      "3        Intra              IPO          10%  Elastic Shakedown   \n",
      "4        Intra              IPO          10%  Elastic Shakedown   \n",
      "\n",
      "   Inner Pressure  Multiplier  \n",
      "0           0.000    0.358500  \n",
      "1           2.207    0.398348  \n",
      "2           4.414    0.448171  \n",
      "3           6.621    0.512240  \n",
      "4           8.828    0.597668  \n"
     ]
    }
   ],
   "source": [
    "import pandas as pd\n",
    "import numpy as np\n",
    "\n",
    "# 데이터 불러오기\n",
    "data = pd.read_csv('WallThinning_10_data.csv')\n",
    "data = data.drop('Moment', axis=1)\n",
    "# 데이터 확인\n",
    "print(data.head())"
   ]
  },
  {
   "cell_type": "code",
   "execution_count": 22,
   "metadata": {},
   "outputs": [
    {
     "name": "stdout",
     "output_type": "stream",
     "text": [
      "  Thining Part Moment Direction Thining Rate      Boundary Type  \\\n",
      "0        Intra              IPO          10%  Elastic Shakedown   \n",
      "1        Intra              IPO          10%  Elastic Shakedown   \n",
      "2        Intra              IPO          10%  Elastic Shakedown   \n",
      "3        Intra              IPO          10%  Elastic Shakedown   \n",
      "4        Intra              IPO          10%  Elastic Shakedown   \n",
      "\n",
      "   Inner Pressure  Multiplier  \n",
      "0             0.0    0.358500  \n",
      "1             0.1    0.398348  \n",
      "2             0.2    0.448171  \n",
      "3             0.3    0.512240  \n",
      "4             0.4    0.597668  \n"
     ]
    }
   ],
   "source": [
    "from sklearn.preprocessing import MinMaxScaler\n",
    "\n",
    "# Min-Max Scaler 객체 생성\n",
    "scaler = MinMaxScaler()\n",
    "\n",
    "# 'Inner Pressure' 열 선택 및 Reshape (-1, 1) 필요 (scaler는 2D 배열을 요구함)\n",
    "inner_Pressure = data['Inner Pressure'].values.reshape(-1, 1)\n",
    "\n",
    "# Min-Max Normalization 적용\n",
    "data['Inner Pressure'] = scaler.fit_transform(inner_Pressure)\n",
    "\n",
    "# 결과 확인\n",
    "print(data.head())\n"
   ]
  },
  {
   "cell_type": "code",
   "execution_count": 23,
   "metadata": {},
   "outputs": [],
   "source": [
    "from sklearn.model_selection import train_test_split\n",
    "from sklearn.preprocessing import LabelEncoder, StandardScaler\n",
    "\n",
    "data = pd.get_dummies(data, columns=['Thining Part','Moment Direction','Boundary Type'])\n",
    "\n",
    "# Numerical 변수 전처리 (Inner pressure)\n",
    "data['Thining Rate'] = data['Thining Rate'].str.rstrip('%').astype('int')\n",
    "\n",
    "# 데이터 분할\n",
    "X = data.drop('Multiplier', axis=1)\n",
    "y = data['Multiplier']"
   ]
  },
  {
   "cell_type": "code",
   "execution_count": 24,
   "metadata": {},
   "outputs": [
    {
     "name": "stdout",
     "output_type": "stream",
     "text": [
      "MLP - MAE: 0.2525, MSE: 0.0878, RMSE: 0.2963, MAPE: 35.1640, SMAPE: 44.3540, R2: -2.2957\n",
      "CNN - MAE: 0.0884, MSE: 0.0121, RMSE: 0.1100, MAPE: 24.8646, SMAPE: 24.9010, R2: 0.5458\n",
      "RNN - MAE: 0.1324, MSE: 0.0232, RMSE: 0.1523, MAPE: 22.8914, SMAPE: 21.4570, R2: 0.1295\n",
      "LSTM - MAE: 0.1441, MSE: 0.0296, RMSE: 0.1721, MAPE: 23.9015, SMAPE: 25.3037, R2: -0.1117\n",
      "GRU - MAE: 0.1360, MSE: 0.0246, RMSE: 0.1569, MAPE: 22.5387, SMAPE: 21.3912, R2: 0.0766\n"
     ]
    }
   ],
   "source": [
    "# 모델 컴파일 및 학습\n",
    "for name, model in models.items():\n",
    "    if name == 'MLP':\n",
    "        y_pred = model.predict(X)\n",
    "    else:\n",
    "        X_transformed = X.to_numpy().reshape((X.shape[0], X.shape[1], 1))\n",
    "        y_pred = model.predict(X_transformed)\n",
    "\n",
    "    # 실제 값과 예측 값의 차이를 계산하여 평가 지표를 구함\n",
    "    mae = mean_absolute_error(y, y_pred)\n",
    "    mse = mean_squared_error(y, y_pred)\n",
    "    rmse = np.sqrt(mse)\n",
    "    mape = mean_absolute_percentage_error(y, y_pred)\n",
    "    smape = symmetric_mean_absolute_percentage_error(y, y_pred)   \n",
    "    r2 = r2_score(y, y_pred)\n",
    "\n",
    "    print(f'{name} - MAE: {mae:.4f}, MSE: {mse:.4f}, RMSE: {rmse:.4f}, MAPE: {mape:.4f}, SMAPE: {smape:.4f}, R2: {r2:.4f}')"
   ]
  },
  {
   "cell_type": "code",
   "execution_count": null,
   "metadata": {},
   "outputs": [],
   "source": []
  }
 ],
 "metadata": {
  "kernelspec": {
   "display_name": "Python 3.6.9 ('venv': venv)",
   "language": "python",
   "name": "python3"
  },
  "language_info": {
   "codemirror_mode": {
    "name": "ipython",
    "version": 3
   },
   "file_extension": ".py",
   "mimetype": "text/x-python",
   "name": "python",
   "nbconvert_exporter": "python",
   "pygments_lexer": "ipython3",
   "version": "3.6.9"
  },
  "vscode": {
   "interpreter": {
    "hash": "026b491e54cba9ce61109363993937e87c49f1c80bf25d26bf1382b18909d6dd"
   }
  }
 },
 "nbformat": 4,
 "nbformat_minor": 2
}
